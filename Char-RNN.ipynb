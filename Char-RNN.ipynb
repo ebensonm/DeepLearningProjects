{
  "nbformat": 4,
  "nbformat_minor": 0,
  "metadata": {
    "accelerator": "GPU",
    "colab": {
      "name": "lab6.ipynb",
      "provenance": [],
      "collapsed_sections": [],
      "toc_visible": true
    },
    "kernelspec": {
      "display_name": "Python 3",
      "language": "python",
      "name": "python3"
    },
    "language_info": {
      "codemirror_mode": {
        "name": "ipython",
        "version": 3
      },
      "file_extension": ".py",
      "mimetype": "text/x-python",
      "name": "python",
      "nbconvert_exporter": "python",
      "pygments_lexer": "ipython3",
      "version": "3.7.1"
    },
    "pycharm": {
      "stem_cell": {
        "cell_type": "raw",
        "metadata": {
          "collapsed": false
        },
        "source": []
      }
    }
  },
  "cells": [
    {
      "cell_type": "markdown",
      "metadata": {
        "id": "Iw-pVi15Fo3e"
      },
      "source": [
        "<a \n",
        "href=\"https://colab.research.google.com/github/wingated/cs474_labs_f2019/blob/master/DL_Lab6.ipynb\"\n",
        "  target=\"_parent\">\n",
        "  <img\n",
        "    src=\"https://colab.research.google.com/assets/colab-badge.svg\"\n",
        "    alt=\"Open In Colab\"/>\n",
        "</a>"
      ]
    },
    {
      "cell_type": "markdown",
      "metadata": {
        "id": "cksgAH12XRjV"
      },
      "source": [
        "# Lab 6: Sequence-to-sequence models\n",
        "\n",
        "### Description:\n",
        "For this lab, you will code up the [char-rnn model of Karpathy](http://karpathy.github.io/2015/05/21/rnn-effectiveness/). This is a recurrent neural network that is trained probabilistically on sequences of characters, and that can then be used to sample new sequences that are like the original.\n",
        "\n",
        "This lab will help you develop several new skills, as well as understand some best practices needed for building large models. In addition, we'll be able to create networks that generate neat text!\n",
        "\n",
        "### Deliverable:\n",
        "- Fill in the code for the RNN (using PyTorch's built-in GRU).\n",
        "- Fill in the training loop\n",
        "- Fill in the evaluation loop. In this loop, rather than using a validation set, you will sample text from the RNN.\n",
        "- Implement your own GRU cell.\n",
        "- Train your RNN on a new domain of text (Star Wars, political speeches, etc. - have fun!)\n",
        "\n",
        "### Grading Standards:\n",
        "- 20% Implementation the RNN\n",
        "- 20% Implementation training loop\n",
        "- 20% Implementation of evaluation loop\n",
        "- 20% Implementation of your own GRU cell\n",
        "- 20% Training of your RNN on a domain of your choice\n",
        "\n",
        "### Tips:\n",
        "- Read through all the helper functions, run them, and make sure you understand what they are doing\n",
        "- At each stage, ask yourself: What should the dimensions of this tensor be? Should its data type be float or int? (int is called `long` in PyTorch)\n",
        "- Don't apply a softmax inside the RNN if you are using an nn.CrossEntropyLoss (this module already applies a softmax to its input).\n",
        "\n",
        "### Example Output:\n",
        "An example of my final samples are shown below (more detail in the\n",
        "final section of this writeup), after 150 passes through the data.\n",
        "Please generate about 15 samples for each dataset.\n",
        "\n",
        "<code>\n",
        "And ifte thin forgision forward thene over up to a fear not your\n",
        "And freitions, which is great God. Behold these are the loss sub\n",
        "And ache with the Lord hath bloes, which was done to the holy Gr\n",
        "And appeicis arm vinimonahites strong in name, to doth piseling \n",
        "And miniquithers these words, he commanded order not; neither sa\n",
        "And min for many would happine even to the earth, to said unto m\n",
        "And mie first be traditions? Behold, you, because it was a sound\n",
        "And from tike ended the Lamanites had administered, and I say bi\n",
        "</code>\n"
      ]
    },
    {
      "cell_type": "markdown",
      "metadata": {
        "id": "c2i_QpSsWG4c"
      },
      "source": [
        "---\n",
        "\n",
        "## Part 0: Readings, data loading, and high level training\n",
        "\n",
        "---\n",
        "\n",
        "There is a tutorial here that will help build out scaffolding code, and get an understanding of using sequences in pytorch.\n",
        "\n",
        "* Read the following\n",
        "\n",
        "> * [Pytorch sequence-to-sequence tutorial](https://pytorch.org/tutorials/intermediate/seq2seq_translation_tutorial.html) (Take note that you will not be implementing the encoder part of this tutorial.)\n",
        "* [Understanding LSTM Networks](http://colah.github.io/posts/2015-08-Understanding-LSTMs/)\n",
        "\n",
        "\n",
        "\n",
        "\n"
      ]
    },
    {
      "cell_type": "code",
      "metadata": {
        "colab": {
          "base_uri": "https://localhost:8080/"
        },
        "id": "l7bdZWxvJrsx",
        "outputId": "4f281bff-6745-461f-bb10-e762028adb2e"
      },
      "source": [
        "! wget -O ./text_files.tar.gz 'https://piazza.com/redirect/s3?bucket=uploads&prefix=attach%2Fjlifkda6h0x5bk%2Fhzosotq4zil49m%2Fjn13x09arfeb%2Ftext_files.tar.gz' \n",
        "! tar -xzf text_files.tar.gz\n",
        "! pip install unidecode\n",
        "! pip install torch\n",
        "\n",
        "import unidecode\n",
        "import string\n",
        "import random\n",
        "import re\n",
        "from tqdm import tqdm\n",
        "import matplotlib.pyplot as plt\n",
        " \n",
        "import pdb\n",
        "\n",
        "all_characters = string.printable\n",
        "n_characters = len(all_characters)\n",
        "file = unidecode.unidecode(open('./text_files/lotr.txt').read())\n",
        "file_len = len(file)\n",
        "print('file_len =', file_len)"
      ],
      "execution_count": 46,
      "outputs": [
        {
          "output_type": "stream",
          "text": [
            "--2021-02-26 21:47:12--  https://piazza.com/redirect/s3?bucket=uploads&prefix=attach%2Fjlifkda6h0x5bk%2Fhzosotq4zil49m%2Fjn13x09arfeb%2Ftext_files.tar.gz\n",
            "Resolving piazza.com (piazza.com)... 3.208.138.178, 54.236.183.80, 34.195.100.100, ...\n",
            "Connecting to piazza.com (piazza.com)|3.208.138.178|:443... connected.\n",
            "HTTP request sent, awaiting response... 302 Found\n",
            "Location: https://cdn-uploads.piazza.com/attach/jlifkda6h0x5bk/hzosotq4zil49m/jn13x09arfeb/text_files.tar.gz [following]\n",
            "--2021-02-26 21:47:12--  https://cdn-uploads.piazza.com/attach/jlifkda6h0x5bk/hzosotq4zil49m/jn13x09arfeb/text_files.tar.gz\n",
            "Resolving cdn-uploads.piazza.com (cdn-uploads.piazza.com)... 52.84.169.86, 52.84.169.13, 52.84.169.28, ...\n",
            "Connecting to cdn-uploads.piazza.com (cdn-uploads.piazza.com)|52.84.169.86|:443... connected.\n",
            "HTTP request sent, awaiting response... 200 OK\n",
            "Length: 1533290 (1.5M) [application/x-gzip]\n",
            "Saving to: ‘./text_files.tar.gz’\n",
            "\n",
            "./text_files.tar.gz 100%[===================>]   1.46M  --.-KB/s    in 0.04s   \n",
            "\n",
            "2021-02-26 21:47:12 (38.8 MB/s) - ‘./text_files.tar.gz’ saved [1533290/1533290]\n",
            "\n",
            "Requirement already satisfied: unidecode in /usr/local/lib/python3.7/dist-packages (1.2.0)\n",
            "Requirement already satisfied: torch in /usr/local/lib/python3.7/dist-packages (1.7.1+cu101)\n",
            "Requirement already satisfied: typing-extensions in /usr/local/lib/python3.7/dist-packages (from torch) (3.7.4.3)\n",
            "Requirement already satisfied: numpy in /usr/local/lib/python3.7/dist-packages (from torch) (1.19.5)\n",
            "file_len = 2579888\n"
          ],
          "name": "stdout"
        }
      ]
    },
    {
      "cell_type": "code",
      "metadata": {
        "colab": {
          "base_uri": "https://localhost:8080/"
        },
        "id": "TxBeKeNjJ0NQ",
        "outputId": "c2948eae-e55a-481b-8b76-210738eddada"
      },
      "source": [
        "chunk_len = 200\n",
        " \n",
        "def random_chunk():\n",
        "  start_index = random.randint(0, file_len - chunk_len)\n",
        "  end_index = start_index + chunk_len + 1\n",
        "  return file[start_index:end_index]\n",
        "  \n",
        "print(random_chunk())"
      ],
      "execution_count": 2,
      "outputs": [
        {
          "output_type": "stream",
          "text": [
            " a thick hedge on the inner side. Over this \n",
            "the Road crossed by a causeway; but where it pierced the hedge it was barred \n",
            "by a great gate. There was another gate in the southern comer where the Road \n",
            "\n"
          ],
          "name": "stdout"
        }
      ]
    },
    {
      "cell_type": "code",
      "metadata": {
        "colab": {
          "base_uri": "https://localhost:8080/"
        },
        "id": "On0_WitWJ99e",
        "outputId": "ab5816f3-f9a0-49de-e372-9015751b8a63"
      },
      "source": [
        "import torch\n",
        "assert torch.cuda.is_available(), \"You need to request a GPU from Runtime > Change Runtime\"\n",
        "# Turn string into list of longs\n",
        "def char_tensor(string):\n",
        "  tensor = torch.zeros(len(string)).long()\n",
        "  for c in range(len(string)):\n",
        "      tensor[c] = all_characters.index(string[c])\n",
        "  if (torch.sum(~torch.isnan(tensor)).item() != len(string)):\n",
        "      print(\"Data Fail\")\n",
        "  return tensor\n",
        "\n",
        "print(char_tensor('abcDEF'))"
      ],
      "execution_count": 3,
      "outputs": [
        {
          "output_type": "stream",
          "text": [
            "tensor([10, 11, 12, 39, 40, 41])\n"
          ],
          "name": "stdout"
        }
      ]
    },
    {
      "cell_type": "markdown",
      "metadata": {
        "id": "CYJPTLcaYmfI"
      },
      "source": [
        "---\n",
        "\n",
        "## Part 4: Creating your own GRU cell \n",
        "\n",
        "**(Come back to this later - its defined here so that the GRU will be defined before it is used)**\n",
        "\n",
        "---\n",
        "\n",
        "The cell that you used in Part 1 was a pre-defined Pytorch layer. Now, write your own GRU class using the same parameters as the built-in Pytorch class does.\n",
        "\n",
        "Please try not to look at the GRU cell definition. The answer is right there in the code, and in theory, you could just cut-and-paste it. This bit is on your honor!\n",
        "\n",
        "**TODO:**\n",
        "* Create a custom GRU cell\n",
        "\n",
        "**DONE:**\n",
        "\n"
      ]
    },
    {
      "cell_type": "code",
      "metadata": {
        "id": "aavAv50ZKQ-F"
      },
      "source": [
        "import torch\n",
        "import torch.nn as nn\n",
        "import torch.nn.functional as F\n",
        "\n",
        "\n",
        "class GRUCell(nn.Module):\n",
        "\n",
        "  def __init__(self, input_size, hidden_size, num_layers=1):\n",
        "    super(GRUCell, self).__init__()\n",
        "    self.hidden_size = hidden_size\n",
        "    self.input_size = input_size\n",
        "    self.num_layers = num_layers\n",
        "    #generate the initalizations uniformly ranodom\n",
        "    self.weight_ih = nn.parameter.Parameter(0.4*torch.rand(size=(3*self.hidden_size,self.input_size))-0.2)\n",
        "    self.weight_hh = nn.parameter.Parameter(0.4*torch.rand(size=(3*self.hidden_size,self.hidden_size))-0.2)\n",
        "    self.bias_ih = nn.parameter.Parameter(0.4*torch.rand(size=(3*self.hidden_size,))-0.2)\n",
        "    self.bias_hh =  nn.parameter.Parameter(0.4*torch.rand(size=(3*self.hidden_size,))-0.2)\n",
        "\n",
        "  def forward(self, inputs, hidden):\n",
        "    # Each layer does the following:\n",
        "    # r_t = sigmoid(W_ir*x_t + b_ir + W_hr*h_(t-1) + b_hr)\n",
        "    # z_t = sigmoid(W_iz*x_t + b_iz + W_hz*h_(t-1) + b_hz)\n",
        "    # n_t = tanh(W_in*x_t + b_in + r_t**(W_hn*h_(t-1) + b_hn))\n",
        "    # h_(t) = (1 - z_t)**n_t + z_t**h_(t-1)\n",
        "    # Where ** is hadamard product (not matrix multiplication, but elementwise multiplication)\n",
        "    batch_in = inputs.shape[0]\n",
        "    #if it is only a batch_size 1 process, do the faster way\n",
        "    if (batch_in == 1):\n",
        "      inputs = torch.squeeze(inputs,dim=0)\n",
        "      hidden = torch.squeeze(hidden,dim=0)\n",
        "      first_op = torch.matmul(self.weight_ih,inputs)+self.bias_ih\n",
        "      second_op = torch.matmul(self.weight_hh,hidden)+self.bias_hh\n",
        "      r_z = torch.sigmoid(first_op[:-self.hidden_size]+second_op[:-self.hidden_size])\n",
        "      n = torch.tanh(first_op[-self.hidden_size:]+torch.mul(r_z[:self.hidden_size],second_op[-self.hidden_size:]))\n",
        "      output = (torch.mul(1-r_z[self.hidden_size:2*self.hidden_size],n)+torch.mul(r_z[self.hidden_size:2*self.hidden_size],hidden))\n",
        "      output = torch.unsqueeze(output,dim=0)\n",
        "    #if not, we will have to do the slower way :(\n",
        "    else:\n",
        "      first_op = torch.matmul(self.weight_ih,inputs.T)+torch.unsqueeze(self.bias_ih,1)\n",
        "      second_op = torch.matmul(self.weight_hh,hidden.T)+torch.unsqueeze(self.bias_hh,1)\n",
        "      r_z = torch.sigmoid(first_op[:-self.hidden_size]+second_op[:-self.hidden_size])\n",
        "      n = torch.tanh(first_op[-self.hidden_size:]+torch.mul(r_z[:self.hidden_size],second_op[-self.hidden_size:]))\n",
        "      output = (torch.mul(1-r_z[self.hidden_size:2*self.hidden_size],n)+torch.mul(r_z[self.hidden_size:2*self.hidden_size],hidden.T)).T\n",
        "    #return the output, with one GRUCell, output is the same as hidden so doing two different ones will not make sense  \n",
        "    return output\n"
      ],
      "execution_count": 65,
      "outputs": []
    },
    {
      "cell_type": "code",
      "metadata": {
        "colab": {
          "base_uri": "https://localhost:8080/"
        },
        "id": "KZSYTzJ4YSVE",
        "outputId": "8d91df8b-c200-4729-aae9-39f51d3805b0"
      },
      "source": [
        "gru = GRUCell(5,20)\n",
        "tester = torch.nn.GRUCell(5,20)\n",
        "print([parameter.shape for parameter in tester.parameters()])\n",
        "print([parameter.shape for parameter in gru.parameters()])\n",
        "#print(tester._parameters['weight_ih_l0'].shape)\n",
        "#print(gru.w0.shape)"
      ],
      "execution_count": 66,
      "outputs": [
        {
          "output_type": "stream",
          "text": [
            "[torch.Size([60, 5]), torch.Size([60, 20]), torch.Size([60]), torch.Size([60])]\n",
            "[torch.Size([60, 5]), torch.Size([60, 20]), torch.Size([60]), torch.Size([60])]\n"
          ],
          "name": "stdout"
        }
      ]
    },
    {
      "cell_type": "markdown",
      "metadata": {
        "id": "qtXdX-B_WiAY"
      },
      "source": [
        "---\n",
        "\n",
        "##  Part 1: Building a sequence to sequence model\n",
        "\n",
        "---\n",
        "\n",
        "Great! We have the data in a useable form. We can switch out which text file we are reading from, and trying to simulate.\n",
        "\n",
        "We now want to build out an RNN model, in this section, we will use all built in Pytorch pieces when building our RNN class.\n",
        "\n",
        "\n",
        "**TODO:**\n",
        "* Create an RNN class that extends from nn.Module.\n",
        "\n",
        "**DONE:**\n",
        "\n"
      ]
    },
    {
      "cell_type": "code",
      "metadata": {
        "id": "d6tNdEnzWj5F"
      },
      "source": [
        "class RNN(nn.Module):\n",
        "  def __init__(self, input_size, hidden_size, output_size, n_layers=1):\n",
        "    super(RNN, self).__init__()\n",
        "    self.input_size = input_size\n",
        "    self.hidden_size = hidden_size\n",
        "    self.output_size = output_size\n",
        "    self.n_layers = n_layers\n",
        "    self.seq_length = chunk_len//self.input_size\n",
        "    self.hidden = torch.zeros(self.n_layers,1,self.hidden_size).cuda()\n",
        "    #create the a gru to be used\n",
        "    self.embedding = torch.nn.Embedding(num_embeddings=self.input_size, embedding_dim=self.input_size)\n",
        "    self.gru = nn.ModuleList()\n",
        "    for i in range(self.n_layers):\n",
        "      if (i == 0):\n",
        "        self.gru.append(GRUCell(self.input_size,self.hidden_size))\n",
        "      else:\n",
        "        self.gru.append(GRUCell(self.hidden_size,self.hidden_size))\n",
        "    #create a trainable linear layer to size correctly\n",
        "    self.linear = torch.nn.Linear(in_features=self.hidden_size, out_features=self.output_size)\n",
        "\n",
        "  def forward(self, input_char, hidden=None):\n",
        "    # by reviewing the documentation, construct a forward function that properly uses the output\n",
        "    # of the GRU\n",
        "    if (hidden is None):\n",
        "        hidden = self.hidden\n",
        "    inputs = self.embedding(input_char)\n",
        "    inputs = torch.unsqueeze(inputs,dim=0)\n",
        "    hidden_vec = list()\n",
        "    outputs = list()\n",
        "    for layer, gru_layer in enumerate(self.gru):\n",
        "        hid = gru_layer(inputs,hidden[layer])\n",
        "        hidden_vec.append(hid)\n",
        "        inputs = hid\n",
        "    # stuff here\n",
        "    hidden_vec = torch.unsqueeze(torch.cat(hidden_vec,dim=0),dim=1)\n",
        "    out_decoded = self.linear(hid)\n",
        "    return out_decoded, hidden_vec"
      ],
      "execution_count": 67,
      "outputs": []
    },
    {
      "cell_type": "code",
      "metadata": {
        "id": "hrhXghEPKD-5"
      },
      "source": [
        "def random_training_set():    \n",
        "  chunk = random_chunk()\n",
        "  inp = char_tensor(chunk[:-1])\n",
        "  target = char_tensor(chunk[1:])\n",
        "  return inp, target"
      ],
      "execution_count": 68,
      "outputs": []
    },
    {
      "cell_type": "markdown",
      "metadata": {
        "id": "ZpiGObbBX0Mr"
      },
      "source": [
        "---\n",
        "\n",
        "## Part 2: Sample text and Training information\n",
        "\n",
        "---\n",
        "\n",
        "We now want to be able to train our network, and sample text after training.\n",
        "\n",
        "This function outlines how training a sequence style network goes. \n",
        "\n",
        "**TODO:**\n",
        "* Fill in the pieces.\n",
        "\n",
        "**DONE:**\n",
        "\n",
        "\n"
      ]
    },
    {
      "cell_type": "code",
      "metadata": {
        "id": "2ALC3Pf8Kbsi"
      },
      "source": [
        "# NOTE: decoder_optimizer, decoder, and criterion will be defined below as global variables\n",
        "def train(inp, target):\n",
        "  ## initialize hidden layers, set up gradient and loss \n",
        "    # your code here\n",
        "  #add the the variables to cuda\n",
        "  #initialize loss\n",
        "  target, inp = target.cuda(), inp.cuda()\n",
        "  hidden = None\n",
        "  #zero the gradient\n",
        "  decoder_optimizer.zero_grad()\n",
        "  y_hats = list()\n",
        "  for it, character in enumerate(inp):\n",
        "    #compute the prediction\n",
        "    y_hat,hidden = decoder(character,hidden)\n",
        "    #compute the loss\n",
        "    y_hats.append(torch.unsqueeze(y_hat,dim=0))\n",
        "  y_hats = torch.squeeze(torch.cat(y_hats,dim=0),dim=1)\n",
        "  loss = criterion(y_hats,target)\n",
        "  #now do the back propagation algorithm    \n",
        "  loss.backward()\n",
        "  nn.utils.clip_grad_value_(decoder.parameters(), 0.1)\n",
        "  decoder_optimizer.step()\n",
        "  return loss.item()"
      ],
      "execution_count": 69,
      "outputs": []
    },
    {
      "cell_type": "markdown",
      "metadata": {
        "id": "EN06NUu3YRlz"
      },
      "source": [
        "---\n",
        "\n",
        "## Part 3: Sample text and Training information\n",
        "\n",
        "---\n",
        "\n",
        "You can at this time, if you choose, also write out your train loop boilerplate that samples random sequences and trains your RNN. This will be helpful to have working before writing your own GRU class.\n",
        "\n",
        "If you are finished training, or during training, and you want to sample from the network you may consider using the following function. If your RNN model is instantiated as `decoder`then this will probabilistically sample a sequence of length `predict_len`\n",
        "\n",
        "**TODO:**\n",
        "* Fill out the evaluate function to generate text frome a primed string\n",
        "\n",
        "**DONE:**\n",
        "\n"
      ]
    },
    {
      "cell_type": "code",
      "metadata": {
        "id": "B-bp-OZ1KjNh"
      },
      "source": [
        "def sample_outputs(output, temperature):\n",
        "    \"\"\"Takes in a vector of unnormalized probability weights and samples a character from the distribution\"\"\"\n",
        "    return torch.multinomial(torch.exp(output / temperature), 1)\n",
        "\n",
        "def evaluate(prime_str='A', predict_len=100, temperature=0.8):\n",
        "  ## initialize hidden state, initialize other useful variables\n",
        "    # your code here\n",
        "  ## /\n",
        "  decoder.eval()\n",
        "  string_final = [prime_str]\n",
        "  char = char_tensor(prime_str)\n",
        "  chars = char.cuda()\n",
        "  hidden=None\n",
        "  for character in chars:\n",
        "    output,hidden = decoder(character,hidden)\n",
        "  output = torch.squeeze(sample_outputs(output,temperature),dim=0)[0]\n",
        "  string_final.append(all_characters[output.item()])\n",
        "  #now generate the new stuff\n",
        "  for i in range(predict_len-len(prime_str)):\n",
        "    output,hidden = decoder(output,hidden)\n",
        "    output = torch.squeeze(sample_outputs(output,temperature),dim=0)[0]\n",
        "    string_final.append(all_characters[output.item()])\n",
        "  string_final = ''.join(string_final)\n",
        "  string_final = string_final.replace('\\n',\" \")\n",
        "  return string_final"
      ],
      "execution_count": 114,
      "outputs": []
    },
    {
      "cell_type": "markdown",
      "metadata": {
        "id": "Du4AGA8PcFEW"
      },
      "source": [
        "---\n",
        "\n",
        "## Part 4: (Create a GRU cell, requirements above)\n",
        "\n",
        "---\n"
      ]
    },
    {
      "cell_type": "markdown",
      "metadata": {
        "id": "GFS2bpHSZEU6"
      },
      "source": [
        "\n",
        "---\n",
        "\n",
        "## Part 5: Run it and generate some text!\n",
        "\n",
        "---\n",
        "\n",
        "\n",
        "**TODO:** \n",
        "* Create some cool output\n",
        "\n",
        "**DONE:**\n",
        "\n",
        "\n",
        "\n",
        "\n",
        "Assuming everything has gone well, you should be able to run the main function in the scaffold code, using either your custom GRU cell or the built in layer, and see output something like this. I trained on the “lotr.txt” dataset, using chunk_length=200, hidden_size=100 for 2000 epochs. These are the results, along with the prime string:\n",
        "\n",
        "---\n",
        "\n",
        " G:\n",
        " \n",
        " Gandalf was decrond. \n",
        "'All have lord you. Forward the road at least walk this is stuff, and \n",
        "went to the long grey housel-winding and kindled side was a sleep pleasuring, I do long \n",
        "row hrough. In  \n",
        "\n",
        " lo:\n",
        " \n",
        " lost death it. \n",
        "'The last of the gatherings and take you,' said Aragorn, shining out of the Gate. \n",
        "'Yes, as you there were remembaused to seen their pass, when? What \n",
        "said here, such seven an the sear \n",
        "\n",
        " lo:\n",
        " \n",
        " low, and frod to keepn \n",
        "Came of their most. But here priced doubtless to an Sam up is \n",
        "masters; he left hor as they are looked. And he could now the long to stout in the right fro horseless of \n",
        "the like \n",
        "\n",
        " I:\n",
        " \n",
        " I had been the \n",
        "in his eyes with the perushed to lest, if then only the ring and the legended \n",
        "of the less of the long they which as the \n",
        "enders of Orcovered and smood, and the p \n",
        "\n",
        " I:\n",
        " \n",
        " I they were not the lord of the hoomes. \n",
        "Home already well from the Elves. And he sat strength, and we \n",
        "housed out of the good of the days to the mountains from his perith. \n",
        "\n",
        "'Yess! Where though as if  \n",
        "\n",
        " Th:\n",
        " \n",
        " There yarden \n",
        "you would guard the hoor might. Far and then may was \n",
        "croties, too began to see the drumbred many line \n",
        "and was then hoard walk and they heart, and the chair of the \n",
        "Ents of way, might was \n",
        "\n",
        " G:\n",
        " \n",
        " Gandalf \n",
        "been lat of less the round of the stump; both and seemed to the trees and perished they \n",
        "lay are speered the less; and the wind the steep and have to she \n",
        "precious. There was in the oonly went \n",
        "\n",
        " wh:\n",
        " \n",
        " which went out of the door. \n",
        "Hull the King and of the The days of his brodo \n",
        "stumbler of the windard was a thing there, then it been shining langing \n",
        "to him poor land. They hands; though they seemed ou \n",
        "\n",
        " ra:\n",
        " \n",
        " rather,' have all the least deather \n",
        "down of the truven beginning to the house of sunk. \n",
        "'Nark shorts of the Eyes of the Gate your great nothing as Eret. \n",
        "'I wander trust horn, and there were not, it  \n",
        "\n",
        " I:\n",
        " \n",
        " I can have no mind \n",
        "together! Where don't may had one may little blung \n",
        "terrible to tales. And turn and Gandalf shall be not to as only the Cattring \n",
        "not stopped great the out them forms. On they she lo \n",
        "\n",
        "---\n"
      ]
    },
    {
      "cell_type": "code",
      "metadata": {
        "id": "-nXFeCmdKodw"
      },
      "source": [
        "import time\n",
        "n_epochs = 2000\n",
        "print_every = 200\n",
        "plot_every = 10\n",
        "display_epoch = 5\n",
        "hidden_size = 200\n",
        "n_layers = 4\n",
        "lr = 0.001\n",
        "\n",
        "decoder = RNN(n_characters, hidden_size, n_characters, n_layers)\n",
        "decoder = decoder.cuda()\n",
        "decoder_optimizer = torch.optim.Adam(decoder.parameters(), lr=lr)\n",
        "criterion = nn.CrossEntropyLoss()\n",
        " \n",
        "start = time.time()\n",
        "all_losses = []\n",
        "loss_avg = 0"
      ],
      "execution_count": 71,
      "outputs": []
    },
    {
      "cell_type": "code",
      "metadata": {
        "colab": {
          "base_uri": "https://localhost:8080/"
        },
        "id": "xKfozqw-6eqb",
        "outputId": "3510f880-3e99-4990-9b0c-210d6e1bc4ba"
      },
      "source": [
        "# n_epochs = 2000\n",
        "loop = tqdm(total=n_epochs, position=0, leave=False) \n",
        "for epoch in range(0, n_epochs):\n",
        "  loss_ = train(*random_training_set())       \n",
        "  loss_avg += loss_\n",
        "\n",
        "  if epoch % display_epoch == 0:\n",
        "    loop.set_description('time:{:.2f}, loss:{:.4f}, epoch:{}'.format(time.time()-start,loss_,epoch+1))\n",
        "\n",
        "  #if epoch % print_every == 0:\n",
        "  #  print(evaluate('Wh', 50), '\\n')\n",
        "\n",
        "  if epoch % plot_every == 0:\n",
        "    all_losses.append(loss_avg / plot_every)\n",
        "    loss_avg = 0\n",
        "\n",
        "  loop.update(1)"
      ],
      "execution_count": 72,
      "outputs": [
        {
          "output_type": "stream",
          "text": [
            "time:1536.77, loss:1.7083, epoch:1996: 100%|██████████| 2000/2000 [25:28<00:00,  1.32it/s]"
          ],
          "name": "stderr"
        }
      ]
    },
    {
      "cell_type": "code",
      "metadata": {
        "id": "Ee0so6aKJ5L8",
        "colab": {
          "base_uri": "https://localhost:8080/"
        },
        "outputId": "f1bb94cc-2b01-498c-d9c8-f740c563d945"
      },
      "source": [
        "for i in range(15):\n",
        "  start_strings = [\" Th\", \" wh\", \" he\", \" I \", \" ca\", \" G\", \" lo\", \" ra\"]\n",
        "  start = random.randint(0,len(start_strings)-1)\n",
        "  print(start_strings[start])\n",
        "#   all_characters.index(string[c])\n",
        "  string_out = evaluate(start_strings[start],150)\n",
        "  print(string_out, '\\n')"
      ],
      "execution_count": 128,
      "outputs": [
        {
          "output_type": "stream",
          "text": [
            " G\n",
            " Gandalf the saw them mormed back       from  shadows of the Tree back gladall.   'I wound you will be come Do yet  think habered,' said Gimle the day, \n",
            "\n",
            " G\n",
            " Gandalf. Then the River day down the foegor,  and bit a long his bring a portart, and which a flike a more from his  passs them wary again, his stall  \n",
            "\n",
            " G\n",
            " Gandalf now blave tost is take into a should ard followed ripping. He had Deneshaded up, and when the end as shall day; as the Vride  dead at the own, \n",
            "\n",
            " I \n",
            " I said, 'and the brow after had sprands and then the bockegard with at less that this window of come the northhing. Merry among the tree aid of But be \n",
            "\n",
            " wh\n",
            " whigh came the battle  the lived  as  away a lay tade dayed. There the  from the fipts from through  will set.   'Che borge thin' dear  and  things an \n",
            "\n",
            " ra\n",
            " ravell, and the benorn dign a great  somendown before their far  sat  to a ride follow vacoury fool of  chrinfor the saw       as he will his power of \n",
            "\n",
            " ca\n",
            " can be they the gave by to the Mr, as the Hight fall under to arrowd  of lage was or of dung, they desire rated and stone a come of your furning horse \n",
            "\n",
            " G\n",
            " Gollum.   Fire must bak that the  will should havaur dived it of the Dark to sifling may are from a the wark and hever maying furlonger among then  it \n",
            "\n",
            " wh\n",
            " what had musped the firltward to  a walk. 'He but hear was to their stone the bird it deone no their fir the hand, who  theter  day, but after a stric \n",
            "\n",
            " Th\n",
            " The Caist was, and they pass got was fook was brighted at the River, in this path and was stand it was the braghands and  claac at  arms far and  poor \n",
            "\n",
            " ca\n",
            " came and he gloom in the  had was way, and before to the motted to come for the   against Half among the dended of the Enever your far the star spoke  \n",
            "\n",
            " wh\n",
            " where fear of the king may. Them take anway be side us, the high and from Merry  tolked a now    Long the carrow, and the fast    of the dark of the l \n",
            "\n",
            " G\n",
            " Gimli. Yore I will to the great said. The trees to the benore about they cever gord of the Rands, apst folk that was now not far  bear to save from th \n",
            "\n",
            " he\n",
            " he last all the sides folk and fear Morither  passs again: this follow, they Past falls grow of you are  had been far that had popell: as the had furt \n",
            "\n",
            " wh\n",
            " when make to light of things, some its of the Enow and like to first Swadd stoon the forget of a other; fained to jistled your find ring the longer sh \n",
            "\n"
          ],
          "name": "stdout"
        }
      ]
    },
    {
      "cell_type": "code",
      "metadata": {
        "id": "pIQoG28bdyEN",
        "colab": {
          "base_uri": "https://localhost:8080/",
          "height": 513
        },
        "outputId": "6f3ceb52-cac1-4ac2-89a8-aeb48e049bcb"
      },
      "source": [
        "fig,ax = plt.subplots(figsize=(12,8))\n",
        "ax.plot(all_losses[1:])\n",
        "ax.set_title(\"Loss Plot Over Time (LOTR)\")\n",
        "ax.set_xlabel(\"Iterations (by 10)\")\n",
        "ax.set_ylabel(\"Loss Value\")\n",
        "plt.show()"
      ],
      "execution_count": 74,
      "outputs": [
        {
          "output_type": "display_data",
          "data": {
            "image/png": "[encoded data removed]",
            "text/plain": [
              "<Figure size 864x576 with 1 Axes>"
            ]
          },
          "metadata": {
            "tags": [],
            "needs_background": "light"
          }
        }
      ]
    },
    {
      "cell_type": "markdown",
      "metadata": {
        "id": "YJhgDc2IauPE"
      },
      "source": [
        "---\n",
        "\n",
        "## Part 6: Generate output on a different dataset\n",
        "\n",
        "---\n",
        "\n",
        "**TODO:**\n",
        "\n",
        "* Choose a textual dataset. Here are some [text datasets](https://www.kaggle.com/datasets?tags=14104-text+data%2C13205-text+mining) from Kaggle \n",
        "\n",
        "* Generate some decent looking results and evaluate your model's performance (say what it did well / not so well)\n",
        "\n",
        "**DONE:**\n",
        "\n"
      ]
    },
    {
      "cell_type": "code",
      "metadata": {
        "id": "o9Sbgw17y6I7",
        "colab": {
          "base_uri": "https://localhost:8080/"
        },
        "outputId": "1d8aa62c-0b1e-4810-cb07-60f84a223012"
      },
      "source": [
        "from google.colab import drive\n",
        "drive.mount('/content/drive')"
      ],
      "execution_count": 49,
      "outputs": [
        {
          "output_type": "stream",
          "text": [
            "Mounted at /content/drive\n"
          ],
          "name": "stdout"
        }
      ]
    },
    {
      "cell_type": "code",
      "metadata": {
        "id": "OK71umbcEk3x"
      },
      "source": [
        "text_path = '/content/drive/MyDrive/CS474/Project6/reviews.txt'\n",
        "\n",
        "my_chunk_len = 200\n",
        "\n",
        "my_file = unidecode.unidecode(open(text_path).read())\n",
        "my_file_len = len(my_file)\n",
        " \n",
        "def my_random_chunk():\n",
        "  start_index = random.randint(0, my_file_len - my_chunk_len)\n",
        "  end_index = start_index + my_chunk_len + 1\n",
        "  return my_file[start_index:end_index]\n",
        "\n",
        "def my_random_training_set():    \n",
        "  chunk = my_random_chunk()\n",
        "  inp = char_tensor(chunk[:-1])\n",
        "  target = char_tensor(chunk[1:])\n",
        "  return inp, target\n",
        "\n",
        "def my_train(inp, target):\n",
        "  ## initialize hidden layers, set up gradient and loss \n",
        "    # your code here\n",
        "  #add the the variables to cuda\n",
        "  #initialize loss\n",
        "  target, inp = target.cuda(), inp.cuda()\n",
        "  hidden = None\n",
        "  #zero the gradient\n",
        "  my_decoder_optimizer.zero_grad()\n",
        "  y_hats = list()\n",
        "  for it, character in enumerate(inp):\n",
        "    #compute the prediction\n",
        "    y_hat,hidden = my_decoder(character,hidden)\n",
        "    #compute the loss\n",
        "    y_hats.append(torch.unsqueeze(y_hat,dim=0))\n",
        "  y_hats = torch.squeeze(torch.cat(y_hats,dim=0),dim=1)\n",
        "  loss = my_criterion(y_hats,target)\n",
        "  #now do the back propagation algorithm    \n",
        "  loss.backward()\n",
        "  nn.utils.clip_grad_value_(my_decoder.parameters(), 0.1)\n",
        "  my_decoder_optimizer.step()\n",
        "  return loss.item()\n",
        "\n",
        "def my_evaluate(prime_str='A', predict_len=100, temperature=0.8):\n",
        "  ## initialize hidden state, initialize other useful variables\n",
        "    # your code here\n",
        "  ## /\n",
        "  my_decoder.eval()\n",
        "  string_final = [prime_str]\n",
        "  char = char_tensor(prime_str)\n",
        "  chars = char.cuda()\n",
        "  hidden=None\n",
        "  for character in chars:\n",
        "    output,hidden = my_decoder(character,hidden)\n",
        "  output = torch.squeeze(sample_outputs(output,temperature),dim=0)[0]\n",
        "  string_final.append(all_characters[output.item()])\n",
        "  #now generate the new stuff\n",
        "  for i in range(predict_len-len(prime_str)):\n",
        "    output,hidden = my_decoder(output,hidden)\n",
        "    output = torch.squeeze(sample_outputs(output,temperature),dim=0)[0]\n",
        "    string_final.append(all_characters[output.item()])\n",
        "  string_final = ''.join(string_final)\n",
        "  string_final = string_final.replace('\\n',\" \")\n",
        "  return string_final"
      ],
      "execution_count": 123,
      "outputs": []
    },
    {
      "cell_type": "code",
      "metadata": {
        "id": "u-XzlHEcu9Aq",
        "colab": {
          "base_uri": "https://localhost:8080/"
        },
        "outputId": "8a09e4f8-3a8c-4a33-d770-7aa98cf22a42"
      },
      "source": [
        "n_epochs = 2000\n",
        "#print_every = 200\n",
        "plot_every = 10\n",
        "display_epoch = 5\n",
        "hidden_size = 300\n",
        "n_layers = 5\n",
        "lr = 0.001\n",
        "\n",
        "my_decoder = RNN(n_characters, hidden_size, n_characters, n_layers)\n",
        "my_decoder = my_decoder.cuda()\n",
        "my_decoder_optimizer = torch.optim.Adam(my_decoder.parameters(), lr=lr)\n",
        "my_criterion = nn.CrossEntropyLoss()\n",
        " \n",
        "start = time.time()\n",
        "all_my_losses = []\n",
        "loss_avg = 0\n",
        "\n",
        "loop = tqdm(total=n_epochs, position=0, leave=False) \n",
        "for epoch in range(0, n_epochs):\n",
        "  loss_ = my_train(*my_random_training_set())       \n",
        "  loss_avg += loss_\n",
        "\n",
        "  if epoch % display_epoch == 0:\n",
        "    loop.set_description('time:{:.2f}, loss:{:.4f}, epoch:{}'.format(time.time()-start,loss_,epoch))\n",
        "\n",
        "  if epoch % plot_every == 0:\n",
        "    all_my_losses.append(loss_avg / plot_every)\n",
        "    loss_avg = 0\n",
        "\n",
        "  loop.update(1)"
      ],
      "execution_count": 124,
      "outputs": [
        {
          "output_type": "stream",
          "text": [
            "time:1872.73, loss:1.4110, epoch:1995: 100%|██████████| 2000/2000 [31:16<00:00,  1.06it/s]"
          ],
          "name": "stderr"
        }
      ]
    },
    {
      "cell_type": "code",
      "metadata": {
        "id": "i2fqIEUau9bs",
        "colab": {
          "base_uri": "https://localhost:8080/"
        },
        "outputId": "9176dc07-b117-4412-edb0-00b36dc0b689"
      },
      "source": [
        "for i in range(15):\n",
        "  start_strings = [\" Th\", \" wh\", \" he\", \" I \", \" ca\", \" Do\", \" lo\", \" ra\"]\n",
        "  start = random.randint(0,len(start_strings)-1)\n",
        "  print(start_strings[start])\n",
        "#   all_characters.index(string[c])\n",
        "  string_out = my_evaluate(start_strings[start],150)\n",
        "  print(string_out, '\\n')\n"
      ],
      "execution_count": 127,
      "outputs": [
        {
          "output_type": "stream",
          "text": [
            " I \n",
            " I have the great and a long and do the batterieatian a bag to my amp picks. I have it. I have it they order cEpperfact from the classe this amp. I che \n",
            "\n",
            " wh\n",
            " whith this the Cut that amp of these are heaving it may cheap of the waiting a chacking. Guitar and and diiemple and still not plate great point for a \n",
            "\n",
            " ra\n",
            " rat this players from what it a sort tels might one that in a chose this thank worsings recomnever. I one waprecession of the amp and this amp that co \n",
            "\n",
            " Th\n",
            " The picks and best this set of my one and buy the picks.  Home around the batteriy time plack comped off it modeling the comparish very player which a \n",
            "\n",
            " Th\n",
            " The nark, it as the way the had to amp that acoustic own a it gamemat the other and it a flu more belooce So the makings correp that  The S-V-SEE0.  T \n",
            "\n",
            " Do\n",
            " Donstang but my taping the amp. The product any amp.  AT make, the same still time pockent and I cent in also the Barshing a take, it modeler light ch \n",
            "\n",
            " I \n",
            " I having a scret if you want to be couple level, and in the for then are of the shints, and them is when with the nime. It might like the picsing the  \n",
            "\n",
            " ca\n",
            " can will in the rematter intander but there end. The good as mack are the wEeck. I have to nos a month I bought I have they don't the not or; bag its  \n",
            "\n",
            " ra\n",
            " rable of splot and a love a nover od a get the thing your amp and that mechect the beat the case. Good and the tome works?; notuch. Them foour amplot  \n",
            "\n",
            " he\n",
            " headphones modeles the bot your hant which is a guitar and mething the strings.  Stering.  It make is this light com that my highly loudn of a nean co \n",
            "\n",
            " Do\n",
            " Done and with has these thing it with cutten it's doesn't 5 is a amp which how an amp of they are guitar. I did a not pull guitar dall put almod in a  \n",
            "\n",
            " Th\n",
            " This one.  The accuratic the chanme easy the use the from of the but the other price back on but a better. The guitar dopen fit.  It is that that have \n",
            "\n",
            " Th\n",
            " The acter and that I'm kpys bad a lower soth and the fine with my bucks very took of this issue, and different ats is simple have the mething your a l \n",
            "\n",
            " wh\n",
            " what one. The couple is a Marks as a fasing the fuill sound. These in this one that this inte asfact which is on only about a solution. Drom the regim \n",
            "\n",
            " lo\n",
            " lows but this product of bass an and you haven't really cont with a tong.  It uselps rower in chort up what what I made with the amp &#34;nick better  \n",
            "\n"
          ],
          "name": "stdout"
        }
      ]
    },
    {
      "cell_type": "code",
      "metadata": {
        "id": "ay7gLIB7xoN8",
        "colab": {
          "base_uri": "https://localhost:8080/",
          "height": 513
        },
        "outputId": "94692e79-b5fb-4102-afa2-9a20b1740c28"
      },
      "source": [
        "fig,ax = plt.subplots(figsize=(12,8))\n",
        "ax.plot(all_my_losses[1:])\n",
        "ax.set_title(\"Loss Plot Over Time on Amazon Reviews\")\n",
        "ax.set_xlabel(\"Iterations (by 10)\")\n",
        "ax.set_ylabel(\"Loss Value\")\n",
        "plt.show()"
      ],
      "execution_count": 126,
      "outputs": [
        {
          "output_type": "display_data",
          "data": {
            "image/png": "[encoded data removed]",
            "text/plain": [
              "<Figure size 864x576 with 1 Axes>"
            ]
          },
          "metadata": {
            "tags": [],
            "needs_background": "light"
          }
        }
      ]
    },
    {
      "cell_type": "code",
      "metadata": {
        "id": "c2cnMc-pngz6"
      },
      "source": [
        ""
      ],
      "execution_count": null,
      "outputs": []
    }
  ]
}