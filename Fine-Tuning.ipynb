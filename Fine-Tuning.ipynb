{
  "nbformat": 4,
  "nbformat_minor": 0,
  "metadata": {
    "accelerator": "GPU",
    "colab": {
      "name": "lab10.ipynb",
      "provenance": [],
      "collapsed_sections": []
    },
    "kernelspec": {
      "display_name": "Python 3",
      "language": "python",
      "name": "python3"
    },
    "language_info": {
      "codemirror_mode": {
        "name": "ipython",
        "version": 3
      },
      "file_extension": ".py",
      "mimetype": "text/x-python",
      "name": "python",
      "nbconvert_exporter": "python",
      "pygments_lexer": "ipython3",
      "version": "3.7.1"
    }
  },
  "cells": [
    {
      "cell_type": "markdown",
      "metadata": {
        "id": "rEwpv0GZ_CrT"
      },
      "source": [
        "<a \n",
        "href=\"https://colab.research.google.com/github/wingated/cs474_labs_f2019/blob/master/DL_Lab10.ipynb\"\n",
        "  target=\"_parent\">\n",
        "  <img\n",
        "    src=\"https://colab.research.google.com/assets/colab-badge.svg\"\n",
        "    alt=\"Open In Colab\"/>\n",
        "</a>"
      ]
    },
    {
      "cell_type": "markdown",
      "metadata": {
        "id": "xnoEhAVvBcMj"
      },
      "source": [
        "# Lab 10: Transfer Learning/Fine-Tuning"
      ]
    },
    {
      "cell_type": "markdown",
      "metadata": {
        "id": "sBOvJdJfkXIL"
      },
      "source": [
        "## Description"
      ]
    },
    {
      "cell_type": "markdown",
      "metadata": {
        "id": "GiuvTUWOjtBC"
      },
      "source": [
        "### Objective\n",
        "\n",
        "- Gain experience fine-tuning pre-trained models to domain-specific applications.\n",
        "\n",
        "### Deliverable\n",
        "\n",
        "For this lab you will submit an ipython notebook via learning suite. The bulk of the work is in modifying fine-tuning a pre-trained ResNet. Fine-tuning the GPT-2 language model is pretty easy. The provided code works as is; you will just have to swap in your own text dataset.\n",
        "\n",
        "### Grading\n",
        "\n",
        "- 35% Create a dataset class for your own dataset\n",
        "- 35% Create a network class that wraps a pretrained ResNet\n",
        "- 20% Implement unfreezing in the network class\n",
        "- 10% Fine-tune GPT-2 on your own dataset\n",
        "\n",
        "### Tips\n",
        "- Your life will be better if you download a dataset that already has the data in the expected format for ImageFolder (make sure to read the documentation!). The datasets recommended below are in the correct format.\n",
        "- Get the CNN working on the provided dataset (bird species classification) before swapping in your own.\n",
        "- For reference on freezing/unfreezing network weights, see [this github gist](https://gist.github.com/jcjohnson/6e41e8512c17eae5da50aebef3378a4c)\n",
        "- For training GPT-2, first try the medium-size (355M parameter) model. If your Colab instance doesn't have enough GPU space, you may need to switch to the small-size (124M parameter) model, but the results will be less impressive."
      ]
    },
    {
      "cell_type": "code",
      "metadata": {
        "id": "dKzRORuLBNLR"
      },
      "source": [
        "from torchvision.models import resnet152\n",
        "from torchvision import transforms, datasets\n",
        "from torch.utils.data import DataLoader, Dataset\n",
        "import torch\n",
        "from torch import optim, nn\n",
        "import zipfile\n",
        "from google.colab import files\n",
        "import os\n",
        "import sys\n",
        "from PIL import Image, ImageOps\n",
        "from tqdm import tqdm\n",
        "import numpy as np\n",
        "from matplotlib import pyplot as plt\n",
        "import shutil"
      ],
      "execution_count": 1,
      "outputs": []
    },
    {
      "cell_type": "markdown",
      "metadata": {
        "id": "S4R3D8Mr8b54"
      },
      "source": [
        "## 1 Fine-tune a ResNet for image classification"
      ]
    },
    {
      "cell_type": "markdown",
      "metadata": {
        "id": "kFoEeTYHDq2s"
      },
      "source": [
        "### 1.1 Find a dataset to fine-tune on, and make a Dataset class (1 hr.)"
      ]
    },
    {
      "cell_type": "markdown",
      "metadata": {
        "id": "7z6g7a_Y84n0"
      },
      "source": [
        "#### TODO:"
      ]
    },
    {
      "cell_type": "markdown",
      "metadata": {
        "id": "P8NtFZRd5hcm"
      },
      "source": [
        "- Inherit from torch.utils.data.Dataset\n",
        "- Use a [torchvision.datasets.ImageFolder](https://pytorch.org/docs/stable/torchvision/datasets.html#torchvision.datasets.ImageFolder)\n",
        "- Don't spend too long finding another dataset. Some suggestions that you are free to use:\n",
        " - https://www.kaggle.com/jessicali9530/stanford-dogs-dataset\n",
        " - https://www.kaggle.com/puneet6060/intel-image-classification\n"
      ]
    },
    {
      "cell_type": "markdown",
      "metadata": {
        "id": "TBigIUFTukeJ"
      },
      "source": [
        "#### Help for downloading kaggle datasets\n",
        "Downloading Kaggle datasets requires authentication, so you can't just download from a url. Here are some step-by-step instructions of how to get Kaggle datasets in Colab"
      ]
    },
    {
      "cell_type": "markdown",
      "metadata": {
        "id": "_X29UC6CvwfQ"
      },
      "source": [
        "1. Create an API key in Kaggle\n",
        "    - Click on profile photo\n",
        "    - Go to 'My Account'\n",
        "    - Scroll down to the API access section and click \"Create New API Token\"\n",
        "    - `kaggle.json` is now downloaded to your computer\n",
        "\n",
        "2. Upload the API key and install the Kaggle API client by running the next cell (run it again if it throws an error the first time). Also, `files.upload()` may not work in Firefox. One solution is to expand the Files banner (indicated by the '>' tab on the left side of the page) and use that to upload the key."
      ]
    },
    {
      "cell_type": "code",
      "metadata": {
        "colab": {
          "resources": {
            "http://localhost:8080/nbextensions/google.colab/files.js": {
              "data": "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",
              "ok": true,
              "headers": [
                [
                  "content-type",
                  "application/javascript"
                ]
              ],
              "status": 200,
              "status_text": ""
            }
          },
          "base_uri": "https://localhost:8080/",
          "height": 89
        },
        "id": "Mhjc0pM7jOoZ",
        "outputId": "e3ccf31e-1c6e-4e46-fb6c-5137ad3bee94"
      },
      "source": [
        "# Run this cell and select the kaggle.json file downloaded\n",
        "# from the Kaggle account settings page.\n",
        "from google.colab import files\n",
        "files.upload()\n",
        "# Next, install the Kaggle API client.\n",
        "!pip install -q kaggle\n",
        "# Let's make sure the kaggle.json file is present.\n",
        "!ls -lha kaggle.json\n",
        "# The Kaggle API client expects this file to be in ~/.kaggle,\n",
        "# so move it there.\n",
        "!mkdir -p ~/.kaggle\n",
        "!mv kaggle.json ~/.kaggle/\n",
        "# This permissions change avoids a warning on Kaggle tool startup.\n",
        "!chmod 600 ~/.kaggle/kaggle.json"
      ],
      "execution_count": 3,
      "outputs": [
        {
          "output_type": "display_data",
          "data": {
            "text/html": [
              "\n",
              "     <input type=\"file\" id=\"files-a23947c6-39e8-4722-bc49-9d1e6bc68a24\" name=\"files[]\" multiple disabled\n",
              "        style=\"border:none\" />\n",
              "     <output id=\"result-a23947c6-39e8-4722-bc49-9d1e6bc68a24\">\n",
              "      Upload widget is only available when the cell has been executed in the\n",
              "      current browser session. Please rerun this cell to enable.\n",
              "      </output>\n",
              "      <script src=\"/nbextensions/google.colab/files.js\"></script> "
            ],
            "text/plain": [
              "<IPython.core.display.HTML object>"
            ]
          },
          "metadata": {
            "tags": []
          }
        },
        {
          "output_type": "stream",
          "text": [
            "Saving kaggle.json to kaggle.json\n",
            "-rw-r--r-- 1 root root 68 Mar 18 13:54 kaggle.json\n"
          ],
          "name": "stdout"
        }
      ]
    },
    {
      "cell_type": "markdown",
      "metadata": {
        "id": "AGlIa4SIwEXB"
      },
      "source": [
        "3. Copy the desired dataset locally"
      ]
    },
    {
      "cell_type": "code",
      "metadata": {
        "colab": {
          "base_uri": "https://localhost:8080/"
        },
        "id": "7HtB-XdIr1EE",
        "outputId": "a1647d47-a904-4c98-debc-a40e3d354594"
      },
      "source": [
        "# Example download command for dataset found here: https://www.kaggle.com/akash2907/bird-species-classification\n",
        "!kaggle datasets download -d akash2907/bird-species-classification"
      ],
      "execution_count": 4,
      "outputs": [
        {
          "output_type": "stream",
          "text": [
            "Downloading bird-species-classification.zip to /content\n",
            "100% 1.37G/1.37G [00:22<00:00, 40.7MB/s]\n",
            "100% 1.37G/1.37G [00:22<00:00, 65.2MB/s]\n"
          ],
          "name": "stdout"
        }
      ]
    },
    {
      "cell_type": "code",
      "metadata": {
        "colab": {
          "base_uri": "https://localhost:8080/"
        },
        "id": "CDN4by3KmnC2",
        "outputId": "15ecdc54-d6f4-444e-f75f-401d9f824ccd"
      },
      "source": [
        "#mount the drive\n",
        "from google.colab import drive\n",
        "drive.mount('/content/drive')"
      ],
      "execution_count": 5,
      "outputs": [
        {
          "output_type": "stream",
          "text": [
            "Mounted at /content/drive\n"
          ],
          "name": "stdout"
        }
      ]
    },
    {
      "cell_type": "markdown",
      "metadata": {
        "id": "zcz0JGXjxFGe"
      },
      "source": [
        "#### Make the Dataset class\n",
        "See the implementation below for reference, and implement a dataset class for the dataset you choose."
      ]
    },
    {
      "cell_type": "code",
      "metadata": {
        "id": "lthPlsGeK4CX"
      },
      "source": [
        "class BirdDataset(Dataset):\n",
        "    def __init__(self, zip_file='bird-species-classification.zip', size=256, train=True, upload=False):\n",
        "        super(BirdDataset, self).__init__()\n",
        "        \n",
        "        self.train = train\n",
        "        extract_dir = os.path.splitext(zip_file)[0]\n",
        "        if not os.path.exists(extract_dir):\n",
        "            os.makedirs(extract_dir)\n",
        "            self.extract_zip(zip_file, extract_dir)\n",
        "            # Resize the images - originally they are high resolution. We could do this\n",
        "            # in the DataLoader, but it will read the full-resolution files from disk\n",
        "            # every time before resizing them, making training slow\n",
        "            self.resize(extract_dir, size=size)\n",
        "\n",
        "        postfix = 'train' if train else 'test'\n",
        "            \n",
        "        if train:\n",
        "            # The bird-species dataset mistakenly has a train_data folder inside of train_data\n",
        "            self.dataset_folder = datasets.ImageFolder(os.path.join(extract_dir, 'train_data', 'train_data'), transform=transforms.Compose([transforms.ToTensor()]))\n",
        "        else:\n",
        "            self.dataset_folder = datasets.ImageFolder(os.path.join(extract_dir, 'test_data', 'test_data'), transform=transforms.Compose([transforms.ToTensor()]))\n",
        "\n",
        "    def extract_zip(self, zip_file, extract_dir):\n",
        "        print(\"Extracting\", zip_file)\n",
        "        with zipfile.ZipFile(zip_file, 'r') as zip_ref:\n",
        "            zip_ref.extractall(extract_dir)\n",
        "\n",
        "    def resize(self, path, size=256):\n",
        "        \"\"\"Resizes all images in place\"\"\"\n",
        "        print(\"Resizing images\")\n",
        "        dirs = os.walk(path)\n",
        "        for root, dirs, files in os.walk(path):\n",
        "            for item in files:\n",
        "                name = os.path.join(root, item)\n",
        "                if os.path.isfile(name):\n",
        "                    im = Image.open(name)\n",
        "                    im = ImageOps.fit(im, (size, size))\n",
        "                    im.save(name[:-3] + 'bmp', 'BMP')\n",
        "                    os.remove(name)\n",
        "\n",
        "    def __getitem__(self, i):\n",
        "        return self.dataset_folder[i]\n",
        "\n",
        "    def __len__(self):\n",
        "        return len(self.dataset_folder)\n",
        "\n",
        "train_bird_data = BirdDataset(train=True)\n",
        "test_bird_data = BirdDataset(train=False)"
      ],
      "execution_count": 2,
      "outputs": []
    },
    {
      "cell_type": "code",
      "metadata": {
        "id": "5jHFdToeDtIF"
      },
      "source": [
        "#########################\n",
        "# Implement your own Dataset\n",
        "#########################\n",
        "\n",
        "class DogDataset(Dataset):\n",
        "    def __init__(self, zip_file='/content/drive/MyDrive/CS474/Project9/dog.zip',\n",
        "                size=256, target_dir='/content/dog-classification', train=True, upload=False):\n",
        "        super(DogDataset, self).__init__()\n",
        "        self.train = train\n",
        "        if not os.path.exists(target_dir):\n",
        "            os.makedirs(target_dir)            \n",
        "            self.extract_zip(zip_file, target_dir)\n",
        "            self.resize(target_dir, size=size)\n",
        "        postfix = 'train' if train else 'test'\n",
        "            \n",
        "        if train:\n",
        "            self.dataset_folder = datasets.ImageFolder(os.path.join(target_dir, 'train_data'), transform=transforms.Compose([transforms.ToTensor()]))\n",
        "        else:\n",
        "            self.dataset_folder = datasets.ImageFolder(os.path.join(target_dir, 'test_data'), transform=transforms.Compose([transforms.ToTensor()]))\n",
        "\n",
        "\n",
        "    def extract_zip(self, zip_file, target_dir):\n",
        "        print(\"Extracting\", zip_file)\n",
        "        with zipfile.ZipFile(zip_file, 'r') as zip_ref:\n",
        "            zip_ref.extractall(target_dir)\n",
        "        shutil.rmtree(os.path.join(target_dir,'annotations'), ignore_errors=True)\n",
        "        os.makedirs(os.path.join(target_dir, 'train_data'))\n",
        "        os.makedirs(os.path.join(target_dir, 'test_data'))\n",
        "\n",
        "\n",
        "    def resize(self, path, size=256):\n",
        "        \"\"\"Resizes all images in place\"\"\"\n",
        "        print(\"Resizing images\")\n",
        "        dirs = os.walk(path)\n",
        "        counter = 1\n",
        "        for root, dirs, files in os.walk(path):\n",
        "            for item in files:\n",
        "                name = os.path.join(root, item)\n",
        "                class_dir = os.path.basename(os.path.dirname(name))\n",
        "                base_name = os.path.basename(name)\n",
        "                if not os.path.exists(os.path.join(path,'train_data',class_dir)):\n",
        "                    os.makedirs(os.path.join(path,'train_data',class_dir))\n",
        "                if not os.path.exists(os.path.join(path,'test_data',class_dir)):\n",
        "                    os.makedirs(os.path.join(path,'test_data',class_dir))\n",
        "                if os.path.isfile(name):\n",
        "                    im = Image.open(name)\n",
        "                    im = ImageOps.fit(im, (size, size))\n",
        "                    #save every 50 images to test set\n",
        "                    if (counter == 101):\n",
        "                        counter = 1\n",
        "                        im.save(os.path.join(path, 'test_data', class_dir, base_name[:-3] + 'bmp'), 'BMP')\n",
        "                        os.remove(name)\n",
        "                    else:\n",
        "                        counter += 1\n",
        "                        im.save(os.path.join(path, 'train_data', class_dir, base_name[:-3] + 'bmp'), 'BMP')\n",
        "        shutil.rmtree(os.path.join(path,'images'), ignore_errors=True)\n",
        "   \n",
        "\n",
        "    def __getitem__(self, i):\n",
        "        return self.dataset_folder[i]\n",
        "\n",
        "\n",
        "    def __len__(self):\n",
        "        return len(self.dataset_folder)\n",
        "\n",
        "train_dog_data = DogDataset(train=True)\n",
        "test_dog_data = DogDataset(train=False)"
      ],
      "execution_count": 3,
      "outputs": []
    },
    {
      "cell_type": "code",
      "metadata": {
        "colab": {
          "base_uri": "https://localhost:8080/"
        },
        "id": "hccmjMPHxxkL",
        "outputId": "17b9ddc8-2ada-4ea2-f4ae-07f609c36605"
      },
      "source": [
        "print(len(train_dog_data))\n",
        "print(len(test_dog_data))\n",
        "print(len(train_bird_data))\n",
        "print(len(test_bird_data))"
      ],
      "execution_count": 4,
      "outputs": [
        {
          "output_type": "stream",
          "text": [
            "20377\n",
            "203\n",
            "150\n",
            "157\n"
          ],
          "name": "stdout"
        }
      ]
    },
    {
      "cell_type": "markdown",
      "metadata": {
        "id": "2vJVbYcAJAf2"
      },
      "source": [
        "### 1.2 Wrap a pretrained ResNet in an `nn.Module` (30 min)"
      ]
    },
    {
      "cell_type": "markdown",
      "metadata": {
        "id": "gMOzGDND9FD1"
      },
      "source": [
        "#### TODO:"
      ]
    },
    {
      "cell_type": "markdown",
      "metadata": {
        "id": "jLvmDHbl9IyG"
      },
      "source": [
        "- Make a model class that inherits from `nn.Module`\n",
        "- Wrap a pretrained ResNet and swap out the last layer of that network with a layer that maps to the number of classes in your new dataset"
      ]
    },
    {
      "cell_type": "markdown",
      "metadata": {
        "id": "eOtl8z8G9wbr"
      },
      "source": [
        "#### Make your model class"
      ]
    },
    {
      "cell_type": "code",
      "metadata": {
        "id": "AY-XU4Mwas0j"
      },
      "source": [
        "class CustomResNet(nn.Module):\n",
        "    def __init__(self, num_classes, start_frozen=False):\n",
        "        super(CustomResNet, self).__init__()\n",
        "\n",
        "        # Part 1.2\n",
        "        # Load the model - make sure it is pre-trained\n",
        "        self.resnet152 = resnet152(pretrained=True)\n",
        "\n",
        "        # Part 1.4\n",
        "        num_params = 0\n",
        "        if start_frozen:\n",
        "            # Turn off all gradients of the resnet\n",
        "            for param in self.resnet152.parameters():\n",
        "                param.requires_grad = False\n",
        "                num_params += 1\n",
        "        self.num_params = num_params\n",
        "        # Part 1.2\n",
        "        # Look at the code of torchvision.models.resnet152 (or print the ResNet object) to find the name of the attribute to override (the last layer of the ResNet)\n",
        "        # Override the output linear layer of the neural network to map to the correct number of classes. Note that this new layer has requires_grad = True\n",
        "        self.resnet152.fc = nn.Linear(in_features=2048, out_features=num_classes, bias=True)\n",
        "\n",
        "        \n",
        "    def unfreeze(self, n_layers):\n",
        "        # Part 1.4\n",
        "        # Turn on gradients for the last n_layers\n",
        "        for it, param in enumerate(self.resnet152.parameters()):\n",
        "            if (self.num_params - (it+1) < n_layers):\n",
        "                param.requires_grad = True\n",
        "\n",
        "    def forward(self, x):\n",
        "        # Part 1.2\n",
        "        # Pass x through the resnet\n",
        "        return self.resnet152(x)"
      ],
      "execution_count": 5,
      "outputs": []
    },
    {
      "cell_type": "code",
      "metadata": {
        "id": "6TLVJpOe5Z4d"
      },
      "source": [
        "res = CustomResNet(num_classes=4, start_frozen = True)"
      ],
      "execution_count": 79,
      "outputs": []
    },
    {
      "cell_type": "markdown",
      "metadata": {
        "id": "2Krh0eYy18R9"
      },
      "source": [
        "### 1.3 Read through and run this training loop"
      ]
    },
    {
      "cell_type": "code",
      "metadata": {
        "id": "yOGrrw2gbIPf"
      },
      "source": [
        "def accuracy(y_hat, y_truth):\n",
        "    \"\"\"Gets average accuracy of a vector of predictions\"\"\"\n",
        "    \n",
        "    preds = torch.argmax(y_hat, dim=1)\n",
        "    acc = torch.mean((preds == y_truth).float())\n",
        "    return acc\n",
        "\n",
        "def evaluate(model, objective, val_loader, device):\n",
        "    \"\"\"Gets average accuracy and loss for the validation set\"\"\"\n",
        "\n",
        "    val_losses = []\n",
        "    val_accs = []\n",
        "    # model.eval() so that batchnorm and dropout work in eval mode\n",
        "    model.eval()\n",
        "    # torch.no_grad() to turn off computation graph creation. This allows for temporal\n",
        "    # and spatial complexity improvements, which allows for larger validation batch \n",
        "    # sizes so it’s recommended\n",
        "    with torch.no_grad():\n",
        "        for x, y_truth in val_loader:\n",
        "\n",
        "            x, y_truth = x.to(device), y_truth.to(device)\n",
        "            y_hat = model(x)\n",
        "            val_loss = objective(y_hat, y_truth)\n",
        "            val_acc = accuracy(y_hat, y_truth)\n",
        "\n",
        "            val_losses.append(val_loss.item())\n",
        "            val_accs.append(val_acc)\n",
        "\n",
        "    model.train()\n",
        "\n",
        "    return torch.mean(torch.Tensor(val_losses)), torch.mean(torch.Tensor(val_accs))"
      ],
      "execution_count": 6,
      "outputs": []
    },
    {
      "cell_type": "code",
      "metadata": {
        "id": "VKESMcKi2E_f"
      },
      "source": [
        "def train(start_frozen=False, model_unfreeze=0, epochs=20):\n",
        "    \"\"\"Fine-tunes a CNN\n",
        "    Args:\n",
        "        start_frozen (bool): whether to start with the network weights frozen.\n",
        "        model_unfreeze (int): the maximum number of network layers to unfreeze\n",
        "    \"\"\"\n",
        "    epochs = epochs\n",
        "    # Start with a very low learning rate\n",
        "    lr = .00005\n",
        "    val_every = 3\n",
        "    num_classes = 120\n",
        "    batch_size = 50\n",
        "    device = torch.device('cuda:0')\n",
        "\n",
        "    # Data\n",
        "    train_dataset = DogDataset(upload=True, train=True)\n",
        "    val_dataset = DogDataset(upload=True, train=False)\n",
        "    train_loader = DataLoader(train_dataset,\n",
        "                              shuffle=True,\n",
        "                              num_workers=2,\n",
        "                              batch_size=batch_size)\n",
        "    val_loader = DataLoader(val_dataset,\n",
        "                              shuffle=True,\n",
        "                              num_workers=2,\n",
        "                              batch_size=batch_size)\n",
        "    \n",
        "    # Model\n",
        "    model = CustomResNet(num_classes, start_frozen=start_frozen).to(device)\n",
        "    \n",
        "    # Objective\n",
        "    objective = nn.CrossEntropyLoss()\n",
        "    # Optimizer\n",
        "    optimizer = optim.Adam(model.parameters(), lr=lr, weight_decay=1e-1)\n",
        "\n",
        "    # Progress bar\n",
        "    pbar = tqdm(total=len(train_loader) * epochs)\n",
        "\n",
        "    train_losses = []\n",
        "    train_accs = []\n",
        "    val_losses = []\n",
        "    val_accs = []\n",
        "    \n",
        "    cnt = 0\n",
        "    for epoch in range(epochs):\n",
        "\n",
        "        # Implement model unfreezing\n",
        "        if epoch < model_unfreeze:\n",
        "            # Part 1.4\n",
        "            # Unfreeze the last layers, one more each epoch\n",
        "            model.unfreeze(n_layers = 2+epoch)\n",
        "        \n",
        "        for x, y_truth in train_loader:\n",
        "        \n",
        "            x, y_truth = x.to(device), y_truth.to(device)\n",
        "\n",
        "            optimizer.zero_grad()\n",
        "\n",
        "            y_hat = model(x)\n",
        "            train_loss = objective(y_hat, y_truth)\n",
        "            train_acc = accuracy(y_hat, y_truth)\n",
        "\n",
        "            train_loss.backward()\n",
        "            optimizer.step()\n",
        "\n",
        "            train_accs.append(train_acc)\n",
        "            train_losses.append(train_loss.item())\n",
        "\n",
        "            if cnt % val_every == 0:\n",
        "                val_loss, val_acc = evaluate(model, objective, val_loader, device)\n",
        "                val_losses.append(val_loss)\n",
        "                val_accs.append(val_acc)\n",
        "\n",
        "            pbar.set_description('train loss:{:.4f}, train accuracy:{:.4f}.'.format(train_loss.item(), train_acc))\n",
        "            pbar.update(1)\n",
        "            cnt += 1\n",
        "\n",
        "    pbar.close()\n",
        "    fig,ax = plt.subplots(1,2,figsize=(16,6))\n",
        "    ax[0].plot(np.arange(len(train_accs)), train_accs, label='Train Accuracy')\n",
        "    ax[0].plot(np.arange(len(train_accs), step=val_every), val_accs, label='Val Accuracy')\n",
        "    ax[0].legend()\n",
        "    ax[1].plot(np.arange(len(train_losses)), train_losses, label='Train Loss')\n",
        "    ax[1].plot(np.arange(len(train_losses), step=val_every), val_losses, label='Val Loss')\n",
        "    ax[1].legend()\n",
        "    plt.show()  "
      ],
      "execution_count": 10,
      "outputs": []
    },
    {
      "cell_type": "code",
      "metadata": {
        "colab": {
          "base_uri": "https://localhost:8080/",
          "height": 391
        },
        "id": "fvnxeLotchiH",
        "outputId": "46af5554-e1c1-482f-89cd-ae6ab5a1ee10"
      },
      "source": [
        "train(start_frozen=False, model_unfreeze=0)  "
      ],
      "execution_count": 8,
      "outputs": [
        {
          "output_type": "stream",
          "text": [
            "train loss:2.4782, train accuracy:0.4815.: 100%|██████████| 8160/8160 [2:53:26<00:00,  1.28s/it]\n"
          ],
          "name": "stderr"
        },
        {
          "output_type": "display_data",
          "data": {
            "image/png": "[encoded data removed]",
            "text/plain": [
              "<Figure size 1152x432 with 2 Axes>"
            ]
          },
          "metadata": {
            "tags": [],
            "needs_background": "light"
          }
        }
      ]
    },
    {
      "cell_type": "markdown",
      "metadata": {
        "id": "aEDv_-H7BvM0"
      },
      "source": [
        "### 1.4 Implement Unfreezing (1 hr)"
      ]
    },
    {
      "cell_type": "markdown",
      "metadata": {
        "id": "YH5mQBaa-_0b"
      },
      "source": [
        "#### Description"
      ]
    },
    {
      "cell_type": "markdown",
      "metadata": {
        "id": "u_YmE1pe-6LF"
      },
      "source": [
        "Unfreezing is a technique that can be helpful when fine tuning a CNN for a more difficult task with a large amount of data.\n",
        "\n",
        "The idea is that if we allow the network to tweak the earliest layers immediately, before the last FCL has been trained at all, the earliest layers will forget all of the useful features that they learned in order  to provide features that are helpful for the (untrained) FCL.\n",
        "\n",
        "So, rather than training all of the model weights at once, we learn the last fully connected layer, then train that layer together with the second-to-last layer, gradually adding layers until we reach the first layer."
      ]
    },
    {
      "cell_type": "markdown",
      "metadata": {
        "id": "XMKRI77_-8nc"
      },
      "source": [
        "#### TODO:"
      ]
    },
    {
      "cell_type": "markdown",
      "metadata": {
        "id": "KaUc8BTYC1bz"
      },
      "source": [
        "- Modify your model class by setting the `requires_grad` attribute of the ResNet to `False`. (but keep `requires_grad = True` for the last layer).\n",
        "- Add a member function to you model class that allows the user to unfreeze weights in the training loop. See [this github gist](https://gist.github.com/jcjohnson/6e41e8512c17eae5da50aebef3378a4c) for reference.\n",
        "- Modify your training loop to add logic that calls the `unfreeze` function of the model class (unfreeze one layer every epoch).\n",
        "- Call your train function to fine-tune the ResNet on your dataset."
      ]
    },
    {
      "cell_type": "markdown",
      "metadata": {
        "id": "qBT5jgifC7Im"
      },
      "source": [
        "#### Call your train function"
      ]
    },
    {
      "cell_type": "code",
      "metadata": {
        "colab": {
          "base_uri": "https://localhost:8080/",
          "height": 391
        },
        "id": "Mg9ySEO_BNDx",
        "outputId": "61443d6f-aa38-4997-c800-20d8b0cc924f"
      },
      "source": [
        "############################\n",
        "# train with unfreezing here (should be a single call to your train function)\n",
        "############################\n",
        "train(start_frozen=True, model_unfreeze=20, epochs=15)  "
      ],
      "execution_count": 11,
      "outputs": [
        {
          "output_type": "stream",
          "text": [
            "train loss:1.4128, train accuracy:0.9259.: 100%|██████████| 6120/6120 [1:19:37<00:00,  1.28it/s]\n"
          ],
          "name": "stderr"
        },
        {
          "output_type": "display_data",
          "data": {
            "image/png": "[encoded data removed]",
            "text/plain": [
              "<Figure size 1152x432 with 2 Axes>"
            ]
          },
          "metadata": {
            "tags": [],
            "needs_background": "light"
          }
        }
      ]
    },
    {
      "cell_type": "markdown",
      "metadata": {
        "id": "ZItH2lX7k4Yt"
      },
      "source": [
        "You may not see any improvement for your classification task, but unfreezing can help convergence for more difficult image classification tasks."
      ]
    },
    {
      "cell_type": "markdown",
      "metadata": {
        "id": "XAXHAUf3EEiE"
      },
      "source": [
        "## 2 Fine-tune a language model - (15 min)"
      ]
    },
    {
      "cell_type": "markdown",
      "metadata": {
        "id": "yu9usOxtjFHL"
      },
      "source": [
        "In this section you will use the gpt-2-simple package [here](https://github.com/minimaxir/gpt-2-simple) to fine-tune the GPT-2 language model on a domain of your choice."
      ]
    },
    {
      "cell_type": "markdown",
      "metadata": {
        "id": "_K7F19SPQo6U"
      },
      "source": [
        "### 2.1 Generate text from an the pretrained GPT-2 model"
      ]
    },
    {
      "cell_type": "markdown",
      "metadata": {
        "id": "9YLXvK51RnuL"
      },
      "source": [
        "#### Run this code to generate text from a pretrained model"
      ]
    },
    {
      "cell_type": "code",
      "metadata": {
        "colab": {
          "base_uri": "https://localhost:8080/"
        },
        "id": "WDNOb_H5IRvH",
        "outputId": "df6fc60f-dae3-453c-96bd-2a726c6ff3f5"
      },
      "source": [
        "!pip install gpt-2-simple\n",
        "\n",
        "# the transformers package is built on top of Tensorflow, and the default TF version \n",
        "# for Colab will soon switch to 2.x. We remedy this with the following magic method\n",
        "%tensorflow_version 1.x \n",
        "\n",
        "import gpt_2_simple as gpt2\n",
        "import os\n",
        "import tensorflow as tf"
      ],
      "execution_count": 2,
      "outputs": [
        {
          "output_type": "stream",
          "text": [
            "Requirement already satisfied: gpt-2-simple in /usr/local/lib/python3.7/dist-packages (0.7.2)\n",
            "Requirement already satisfied: numpy in /usr/local/lib/python3.7/dist-packages (from gpt-2-simple) (1.19.5)\n",
            "Requirement already satisfied: toposort in /usr/local/lib/python3.7/dist-packages (from gpt-2-simple) (1.6)\n",
            "Requirement already satisfied: regex in /usr/local/lib/python3.7/dist-packages (from gpt-2-simple) (2019.12.20)\n",
            "Requirement already satisfied: requests in /usr/local/lib/python3.7/dist-packages (from gpt-2-simple) (2.23.0)\n",
            "Requirement already satisfied: tqdm in /usr/local/lib/python3.7/dist-packages (from gpt-2-simple) (4.41.1)\n",
            "Requirement already satisfied: urllib3!=1.25.0,!=1.25.1,<1.26,>=1.21.1 in /usr/local/lib/python3.7/dist-packages (from requests->gpt-2-simple) (1.24.3)\n",
            "Requirement already satisfied: chardet<4,>=3.0.2 in /usr/local/lib/python3.7/dist-packages (from requests->gpt-2-simple) (3.0.4)\n",
            "Requirement already satisfied: idna<3,>=2.5 in /usr/local/lib/python3.7/dist-packages (from requests->gpt-2-simple) (2.10)\n",
            "Requirement already satisfied: certifi>=2017.4.17 in /usr/local/lib/python3.7/dist-packages (from requests->gpt-2-simple) (2020.12.5)\n",
            "TensorFlow 1.x selected.\n",
            "WARNING:tensorflow:\n",
            "The TensorFlow contrib module will not be included in TensorFlow 2.0.\n",
            "For more information, please see:\n",
            "  * https://github.com/tensorflow/community/blob/master/rfcs/20180907-contrib-sunset.md\n",
            "  * https://github.com/tensorflow/addons\n",
            "  * https://github.com/tensorflow/io (for I/O related ops)\n",
            "If you depend on functionality not listed there, please file an issue.\n",
            "\n"
          ],
          "name": "stdout"
        }
      ]
    },
    {
      "cell_type": "code",
      "metadata": {
        "colab": {
          "base_uri": "https://localhost:8080/"
        },
        "id": "6aRJ-c9uRMOa",
        "outputId": "285b79db-519c-49e5-c648-de884b162bc6"
      },
      "source": [
        "# This line is necessary to be able to run a new tf session\n",
        "tf.reset_default_graph()\n",
        "# The medium-sized model. IF you run out of memory, try \"124M\" instead\n",
        "model_name = \"124M\"\n",
        "if not os.path.isdir(os.path.join(\"models\", model_name)):\n",
        "\tprint(f\"Downloading {model_name} model...\")\n",
        "\tgpt2.download_gpt2(model_name=model_name)   # model is saved into current directory under /models/124M/\n",
        "\n",
        "sess = gpt2.start_tf_sess()\n",
        "gpt2.load_gpt2(sess, model_name=model_name)\n",
        "gpt2.generate(sess, model_name=model_name)"
      ],
      "execution_count": 3,
      "outputs": [
        {
          "output_type": "stream",
          "text": [
            "Loading pretrained model models/124M/model.ckpt\n",
            "INFO:tensorflow:Restoring parameters from models/124M/model.ckpt\n",
            "The first thing to understand about these results is that they are based on extremely small sample sizes, so it's hard to know exactly how many people are likely to have a lower nutritional status than the others.\n",
            "\n",
            "To answer that question, we examined the data from the survey of the US population from 1980 to 2009.\n",
            "\n",
            "The vast majority of the people who reported having a lower nutritional status (those who never had a low-protein diet) were men, and the lowest protein intake (those who ever had a low-protein diet) was 30g/day or less.\n",
            "\n",
            "The researchers used a method called inverse logarithmian regression to estimate the mean of the two groups of people who identified as having a different nutrient status (those who had a higher protein intake) versus those who claimed the same nutrient status (those who claimed the same nutrient status).\n",
            "\n",
            "The researchers found that among those who reported a higher protein intake, those who claimed a higher protein intake had a significantly lower prevalence of osteoporosis, which is a degenerative degenerative disease of the bone structure that affects the joints, hips, and other parts of the body.\n",
            "\n",
            "The researchers found that those who claimed a higher protein intake had a significantly lower prevalence of breast cancer. Interestingly, those who claimed a higher protein intake had a lower prevalence of ovarian cancer, which is a non-cancerous cancer of the ovaries.\n",
            "\n",
            "The researchers also found that those who claimed a higher protein intake were more likely to have a small number of basal metabolic syndrome (BMI), which is the metabolic syndrome that causes changes in the body's metabolic rate to increase.\n",
            "\n",
            "The researchers found that those who reported a higher protein intake were more likely to have a family history of diabetes, which is another disease that affects the body's glucose metabolism, and to have a metabolic syndrome.\n",
            "\n",
            "The researchers also found that those who claimed a higher protein intake were more likely to have cardiovascular disease, which is a chronic disease that causes cardiovascular disease.\n",
            "\n",
            "The researchers found that among those who claimed a higher protein intake, those who claimed a higher protein intake had a significantly lower prevalence of type 2 diabetes (which is a type 1 diabetes), which is associated with a higher total mortality rate.\n",
            "\n",
            "The researchers found that those who claimed a higher protein intake had a significantly lower prevalence of type 2 diabetes.\n",
            "\n",
            "The researchers found that those who claimed a higher protein intake were more likely to have a higher incidence of cancer, which is a severe form of cancer that affects the health of the body.\n",
            "\n",
            "The researchers found that those who claimed a higher protein intake reported a higher risk of cardiovascular disease.\n",
            "\n",
            "The researchers found that those who claimed a higher protein intake reported a higher risk of cancer of the lung, which is a known risk factor for cancer.\n",
            "\n",
            "The researchers also found that those who claimed a higher protein intake reported a higher risk of prostate cancer, which was a known risk factor for prostate cancer.\n",
            "\n",
            "The researchers also found that those who claimed a higher protein intake reported a higher risk of diabetes, which is a known risk factor for diabetes.\n",
            "\n",
            "The researchers found that those who claimed a higher protein intake reported a higher risk of spasticity among those with a lower protein intake.\n",
            "\n",
            "The researchers also found that those who claimed a higher protein intake reported a lower risk of breast cancer.\n",
            "\n",
            "The researchers found that those who claimed a higher protein intake reported a lower risk of dry cough, which is a risk factor for dry cough.\n",
            "\n",
            "The researchers found that those who claimed a higher protein intake reported a lower risk of colorectal cancer.\n",
            "\n",
            "The researchers found that those who claimed a higher protein intake reported a lower risk of rheumatoid arthritis, which is a chronic disease that affects the human body's immune system.\n",
            "\n",
            "The researchers found that those who claimed a higher protein intake reported a higher risk of pancreatic cancer, which is a cancer of the pancreas.\n",
            "\n",
            "The researchers found that those who claimed a higher protein intake reported a higher risk of type 2 diabetes.\n",
            "\n",
            "The researchers found that those who claimed a higher protein intake reported a lower risk of a type 3 diabetes, which is associated with a higher total mortality rate.\n",
            "\n",
            "The researchers found that those who claimed a higher protein intake reported a higher risk of urinary tract infections, which is associated with a higher total mortality rate.\n",
            "\n",
            "The researchers found that those who claimed a higher protein intake reported a higher risk of osteoporosis, which is a disease that affects the spine.\n",
            "\n",
            "The researchers found that those who claimed a higher protein intake reported a lower risk of colon cancer, which is a disease associated with colon cancer.\n",
            "\n",
            "The researchers found that those who claimed a higher protein intake reported a higher risk of certain cancers, such as melanoma and Hodgkin's disease.\n",
            "\n",
            "The researchers found that those who claimed a higher protein intake reported a lower risk of lung cancer, which is associated with lung cancer.\n",
            "\n",
            "The researchers found\n"
          ],
          "name": "stdout"
        }
      ]
    },
    {
      "cell_type": "markdown",
      "metadata": {
        "id": "AHmjSVf_FNHv"
      },
      "source": [
        "### 2.2 Download a text dataset"
      ]
    },
    {
      "cell_type": "markdown",
      "metadata": {
        "id": "gPXJkNubFyY6"
      },
      "source": [
        "#### TODO:"
      ]
    },
    {
      "cell_type": "markdown",
      "metadata": {
        "id": "KWkuRjbcFzwb"
      },
      "source": [
        "- Use the provided functions to download your own text dataset\n",
        "- [Project Gutenberg](https://www.gutenberg.org/) is a nice starting point for raw text corpora"
      ]
    },
    {
      "cell_type": "markdown",
      "metadata": {
        "id": "iD45m3IwF9hh"
      },
      "source": [
        "#### Download Dataset"
      ]
    },
    {
      "cell_type": "code",
      "metadata": {
        "colab": {
          "base_uri": "https://localhost:8080/"
        },
        "id": "ESltl2QM5nxw",
        "outputId": "bf847d24-6627-4f11-e135-badf4cbb9c0b"
      },
      "source": [
        "import zipfile\n",
        "import os\n",
        "from torchvision import datasets\n",
        "\n",
        "def extract_zip(zip_path, remove_finished=True):\n",
        "    print('Extracting {}'.format(zip_path))\n",
        "    with zipfile.ZipFile(zip_path, 'r') as zip_ref:\n",
        "        zip_ref.extractall(zip_path.replace('.zip', ''))\n",
        "    if remove_finished:\n",
        "        os.remove(zip_path)\n",
        "\n",
        "def download_dataset(url, root='../data'):\n",
        "    if not os.path.exists(os.path.join(root, 'text')):\n",
        "        os.makedirs(os.path.join(root))\n",
        "        datasets.utils.download_url(url, root, 'text.zip', None)\n",
        "        extract_zip(os.path.join(root, 'text.zip'))\n",
        "    return os.path.join(root, 'text')\n",
        "\n",
        "##########################################\n",
        "# Set the url for your dataset here,\n",
        "# move the dataset to the desired location\n",
        "##########################################\n",
        "#url = 'https://www.gutenberg.org/files/30/30.zip'\n",
        "url = 'https://www.gutenberg.org/files/64849/64849-0.zip'\n",
        "download_dataset(url)\n",
        "!mv /data/text/30.txt /data/text/astronomy.txt\n",
        "!ls ../data/text"
      ],
      "execution_count": 4,
      "outputs": [
        {
          "output_type": "stream",
          "text": [
            "mv: cannot stat '/data/text/30.txt': No such file or directory\n",
            "astronomy.txt\n"
          ],
          "name": "stdout"
        }
      ]
    },
    {
      "cell_type": "markdown",
      "metadata": {
        "id": "usQE-rSPZq_X"
      },
      "source": [
        "### 2.3 Fine-tune GPT-2 on your own dataset"
      ]
    },
    {
      "cell_type": "markdown",
      "metadata": {
        "id": "IoA0tZZCa_1k"
      },
      "source": [
        "#### TODO:"
      ]
    },
    {
      "cell_type": "markdown",
      "metadata": {
        "id": "OoU6ML1mbgjP"
      },
      "source": [
        "- Swap out the dataset parameter with the path to your dataset"
      ]
    },
    {
      "cell_type": "markdown",
      "metadata": {
        "id": "8pa5vFJ5EUjv"
      },
      "source": [
        "#### Train on your dataset"
      ]
    },
    {
      "cell_type": "code",
      "metadata": {
        "colab": {
          "base_uri": "https://localhost:8080/"
        },
        "id": "WuQ5snl4LuS0",
        "outputId": "354058b2-7f29-4645-e9aa-7aa85a78897e"
      },
      "source": [
        "\n",
        "\n",
        "# This line is necessary to be able to run a new tf session if one has already been run\n",
        "tf.reset_default_graph()\n",
        "# Start a session\n",
        "sess = gpt2.start_tf_sess()\n",
        "# Fine tune `model_name` on `data`\n",
        "###################################\n",
        "# Swap out the `dataset` parameter with the path to your text dataset\n",
        "###################################\n",
        "gpt2.finetune(sess,\n",
        "              dataset='../data/text/astronomy.txt',\n",
        "              model_name=model_name,\n",
        "              restore_from='latest',\n",
        "              steps=500)   # steps is max number of training steps\n",
        "\n",
        "gpt2.generate(sess, run_name='run1')"
      ],
      "execution_count": 5,
      "outputs": [
        {
          "output_type": "stream",
          "text": [
            "WARNING:tensorflow:From /usr/local/lib/python3.7/dist-packages/gpt_2_simple/src/sample.py:17: where (from tensorflow.python.ops.array_ops) is deprecated and will be removed in a future version.\n",
            "Instructions for updating:\n",
            "Use tf.where in 2.0, which has the same broadcast rule as np.where\n",
            "Loading checkpoint models/124M/model.ckpt\n",
            "INFO:tensorflow:Restoring parameters from models/124M/model.ckpt\n"
          ],
          "name": "stdout"
        },
        {
          "output_type": "stream",
          "text": [
            "\r  0%|          | 0/1 [00:00<?, ?it/s]"
          ],
          "name": "stderr"
        },
        {
          "output_type": "stream",
          "text": [
            "Loading dataset...\n"
          ],
          "name": "stdout"
        },
        {
          "output_type": "stream",
          "text": [
            "100%|██████████| 1/1 [00:01<00:00,  1.14s/it]\n"
          ],
          "name": "stderr"
        },
        {
          "output_type": "stream",
          "text": [
            "dataset has 215406 tokens\n",
            "Training...\n",
            "[1 | 7.52] loss=2.70 avg=2.70\n",
            "[2 | 8.77] loss=3.19 avg=2.95\n",
            "[3 | 10.02] loss=3.15 avg=3.02\n",
            "[4 | 11.26] loss=2.89 avg=2.99\n",
            "[5 | 12.51] loss=2.88 avg=2.96\n",
            "[6 | 13.76] loss=3.12 avg=2.99\n",
            "[7 | 15.00] loss=2.74 avg=2.95\n",
            "[8 | 16.25] loss=2.23 avg=2.86\n",
            "[9 | 17.50] loss=3.44 avg=2.93\n",
            "[10 | 18.75] loss=3.05 avg=2.94\n",
            "[11 | 19.99] loss=3.03 avg=2.95\n",
            "[12 | 21.24] loss=3.03 avg=2.96\n",
            "[13 | 22.49] loss=2.68 avg=2.93\n",
            "[14 | 23.74] loss=2.48 avg=2.90\n",
            "[15 | 24.98] loss=3.18 avg=2.92\n",
            "[16 | 26.23] loss=3.09 avg=2.93\n",
            "[17 | 27.48] loss=3.35 avg=2.96\n",
            "[18 | 28.72] loss=2.41 avg=2.92\n",
            "[19 | 29.97] loss=2.77 avg=2.91\n",
            "[20 | 31.21] loss=3.12 avg=2.93\n",
            "[21 | 32.46] loss=2.78 avg=2.92\n",
            "[22 | 33.70] loss=2.37 avg=2.89\n",
            "[23 | 34.94] loss=2.34 avg=2.86\n",
            "[24 | 36.19] loss=2.80 avg=2.86\n",
            "[25 | 37.43] loss=3.02 avg=2.87\n",
            "[26 | 38.68] loss=3.08 avg=2.88\n",
            "[27 | 39.93] loss=2.62 avg=2.87\n",
            "[28 | 41.17] loss=2.54 avg=2.85\n",
            "[29 | 42.42] loss=2.24 avg=2.83\n",
            "[30 | 43.67] loss=2.93 avg=2.83\n",
            "[31 | 44.91] loss=2.59 avg=2.82\n",
            "[32 | 46.15] loss=3.11 avg=2.83\n",
            "[33 | 47.39] loss=2.81 avg=2.83\n",
            "[34 | 48.64] loss=2.88 avg=2.84\n",
            "[35 | 49.88] loss=2.87 avg=2.84\n",
            "[36 | 51.13] loss=2.35 avg=2.82\n",
            "[37 | 52.38] loss=3.06 avg=2.83\n",
            "[38 | 53.63] loss=2.81 avg=2.83\n",
            "[39 | 54.89] loss=2.68 avg=2.82\n",
            "[40 | 56.14] loss=2.47 avg=2.81\n",
            "[41 | 57.38] loss=2.92 avg=2.82\n",
            "[42 | 58.63] loss=1.82 avg=2.79\n",
            "[43 | 59.88] loss=2.67 avg=2.78\n",
            "[44 | 61.12] loss=2.59 avg=2.78\n",
            "[45 | 62.37] loss=2.85 avg=2.78\n",
            "[46 | 63.61] loss=2.63 avg=2.78\n",
            "[47 | 64.85] loss=2.12 avg=2.76\n",
            "[48 | 66.10] loss=2.41 avg=2.75\n",
            "[49 | 67.35] loss=2.55 avg=2.74\n",
            "[50 | 68.60] loss=2.51 avg=2.74\n",
            "[51 | 69.84] loss=3.02 avg=2.75\n",
            "[52 | 71.09] loss=2.59 avg=2.74\n",
            "[53 | 72.34] loss=1.94 avg=2.72\n",
            "[54 | 73.59] loss=1.74 avg=2.70\n",
            "[55 | 74.83] loss=2.29 avg=2.69\n",
            "[56 | 76.08] loss=2.73 avg=2.69\n",
            "[57 | 77.32] loss=2.65 avg=2.69\n",
            "[58 | 78.57] loss=2.55 avg=2.69\n",
            "[59 | 79.82] loss=2.09 avg=2.67\n",
            "[60 | 81.06] loss=2.55 avg=2.67\n",
            "[61 | 82.31] loss=2.84 avg=2.67\n",
            "[62 | 83.56] loss=1.69 avg=2.65\n",
            "[63 | 84.81] loss=2.78 avg=2.66\n",
            "[64 | 86.06] loss=2.37 avg=2.65\n",
            "[65 | 87.30] loss=2.52 avg=2.65\n",
            "[66 | 88.55] loss=2.70 avg=2.65\n",
            "[67 | 89.80] loss=1.86 avg=2.63\n",
            "[68 | 91.04] loss=2.78 avg=2.63\n",
            "[69 | 92.29] loss=2.75 avg=2.64\n",
            "[70 | 93.53] loss=2.44 avg=2.63\n",
            "[71 | 94.78] loss=2.33 avg=2.63\n",
            "[72 | 96.03] loss=2.19 avg=2.62\n",
            "[73 | 97.27] loss=2.57 avg=2.62\n",
            "[74 | 98.52] loss=2.77 avg=2.62\n",
            "[75 | 99.77] loss=1.89 avg=2.61\n",
            "[76 | 101.02] loss=2.09 avg=2.60\n",
            "[77 | 102.27] loss=2.04 avg=2.59\n",
            "[78 | 103.52] loss=2.54 avg=2.59\n",
            "[79 | 104.77] loss=2.39 avg=2.58\n",
            "[80 | 106.02] loss=2.80 avg=2.59\n",
            "[81 | 107.27] loss=2.29 avg=2.58\n",
            "[82 | 108.51] loss=2.20 avg=2.57\n",
            "[83 | 109.76] loss=2.70 avg=2.58\n",
            "[84 | 111.00] loss=1.79 avg=2.56\n",
            "[85 | 112.25] loss=2.22 avg=2.56\n",
            "[86 | 113.49] loss=2.53 avg=2.56\n",
            "[87 | 114.74] loss=2.19 avg=2.55\n",
            "[88 | 115.99] loss=2.87 avg=2.56\n",
            "[89 | 117.24] loss=2.10 avg=2.55\n",
            "[90 | 118.49] loss=2.24 avg=2.54\n",
            "[91 | 119.74] loss=2.55 avg=2.54\n",
            "[92 | 120.99] loss=2.43 avg=2.54\n",
            "[93 | 122.23] loss=2.44 avg=2.54\n",
            "[94 | 123.49] loss=2.32 avg=2.54\n",
            "[95 | 124.73] loss=2.19 avg=2.53\n",
            "[96 | 125.98] loss=2.25 avg=2.53\n",
            "[97 | 127.23] loss=2.26 avg=2.52\n",
            "[98 | 128.48] loss=2.36 avg=2.52\n",
            "[99 | 129.72] loss=2.49 avg=2.52\n",
            "[100 | 130.97] loss=2.46 avg=2.52\n",
            "======== SAMPLE 1 ========\n",
            "      + _ _ _ _ _   _ _ _ _ _ _ _ The Great Pyramids of Gîzeh,                    \n",
            "  Babylonian Architecture\n",
            "  Habakkuk Architecture\n",
            "  Habakkuk and Gîzeh\n",
            "   Themes\n",
            "   Pyramids\n",
            "           \n",
            "                       ┐\n",
            "\n",
            "\n",
            "\"                      1st A.C.               │            ┐\n",
            "\n",
            "    Taurt Temple   ┐\n",
            "                  │\n",
            "               │\n",
            "                 │           ┐\n",
            "\n",
            "    Pyramid of Abydos   │             ┌─────│──────│────│──────│────│────│────│────│────┴────│────┴─────┴────┴────┴─────┴────┘─┬────│────┬────┤────│────│────│────│────│────│────│────│────│────│────│────┲┼────┼────┘────┼────┼────│────│────│────│────│────│────┼────│────│────│────│────│────┼────│────│────│────│────│────│────│────│────┼────│────│────│────│──── ──││ │                │             ┌────┬────────│────│─│────│────┬─────────│────│──────────────│────│────┬────│────│────┤────│────┬────┬────┤────│─────────│────┬────│──── ┬────│ ──│ ──┬         │ = \"To a Place,\"    \n",
            "   \"To  Place,\"    Temple of Amen\n",
            "   \"To Amen,\"   Gîzeh.\n",
            "\n",
            "   |                   -  │─────┬────┼────┬────┼────────┴────┴────┴────┴────┴────┴────┰──── \n",
            "\n",
            "    |             |          \n",
            "    │ \"To  Place,\"           │ =  \"To  Place,\"    ───────┬────┼────│────┴────┴────┴────┴────┴────┴────┴────┴────┴────┴────┴────┴────┘ ──│ \"To Place,\" │   | \"To  Place,\" │    │ \"To  Place,\" │    │ \"To  Place,\" │    │ \"To Place.\"\n",
            "\n",
            "   |   Gîzeh.\n",
            "\n",
            "  │   ───────────────┼────┼────────┴────┴────┴────┴────┴──────┴────┴────┪────\n",
            "      ────┬────┬────┴────┼────────┴────┴────┴────┴────┪────\n",
            "        ──────┬────┬────┤────────┬────┬────┤────────────┬────┤────────┤──── \n",
            "\n",
            "   | |         │       \n",
            "\n",
            "[101 | 141.26] loss=2.20 avg=2.51\n",
            "[102 | 142.50] loss=2.58 avg=2.51\n",
            "[103 | 143.75] loss=2.26 avg=2.51\n",
            "[104 | 144.99] loss=2.19 avg=2.50\n",
            "[105 | 146.24] loss=1.99 avg=2.50\n",
            "[106 | 147.48] loss=2.43 avg=2.50\n",
            "[107 | 148.73] loss=2.04 avg=2.49\n",
            "[108 | 149.97] loss=2.26 avg=2.49\n",
            "[109 | 151.22] loss=2.47 avg=2.49\n",
            "[110 | 152.46] loss=1.85 avg=2.48\n",
            "[111 | 153.72] loss=2.38 avg=2.47\n",
            "[112 | 154.97] loss=1.76 avg=2.46\n",
            "[113 | 156.22] loss=2.33 avg=2.46\n",
            "[114 | 157.47] loss=2.48 avg=2.46\n",
            "[115 | 158.72] loss=2.34 avg=2.46\n",
            "[116 | 159.96] loss=2.07 avg=2.45\n",
            "[117 | 161.21] loss=2.07 avg=2.45\n",
            "[118 | 162.46] loss=2.24 avg=2.45\n",
            "[119 | 163.70] loss=2.20 avg=2.44\n",
            "[120 | 164.95] loss=1.87 avg=2.43\n",
            "[121 | 166.19] loss=2.51 avg=2.44\n",
            "[122 | 167.44] loss=2.26 avg=2.43\n",
            "[123 | 168.68] loss=2.15 avg=2.43\n",
            "[124 | 169.93] loss=2.13 avg=2.42\n",
            "[125 | 171.18] loss=2.30 avg=2.42\n",
            "[126 | 172.42] loss=2.44 avg=2.42\n",
            "[127 | 173.67] loss=2.30 avg=2.42\n",
            "[128 | 174.92] loss=1.77 avg=2.41\n",
            "[129 | 176.16] loss=2.48 avg=2.41\n",
            "[130 | 177.41] loss=1.71 avg=2.40\n",
            "[131 | 178.66] loss=2.43 avg=2.40\n",
            "[132 | 179.90] loss=2.40 avg=2.40\n",
            "[133 | 181.15] loss=2.47 avg=2.41\n",
            "[134 | 182.39] loss=2.10 avg=2.40\n",
            "[135 | 183.64] loss=2.61 avg=2.40\n",
            "[136 | 184.89] loss=1.97 avg=2.40\n",
            "[137 | 186.13] loss=2.48 avg=2.40\n",
            "[138 | 187.39] loss=2.18 avg=2.40\n",
            "[139 | 188.64] loss=2.03 avg=2.39\n",
            "[140 | 189.88] loss=1.98 avg=2.39\n",
            "[141 | 191.13] loss=2.37 avg=2.39\n",
            "[142 | 192.37] loss=2.32 avg=2.38\n",
            "[143 | 193.63] loss=2.07 avg=2.38\n",
            "[144 | 194.87] loss=1.99 avg=2.38\n",
            "[145 | 196.12] loss=2.21 avg=2.37\n",
            "[146 | 197.36] loss=2.10 avg=2.37\n",
            "[147 | 198.60] loss=2.45 avg=2.37\n",
            "[148 | 199.85] loss=1.66 avg=2.36\n",
            "[149 | 201.09] loss=2.14 avg=2.36\n",
            "[150 | 202.34] loss=2.18 avg=2.36\n",
            "[151 | 203.59] loss=2.30 avg=2.36\n",
            "[152 | 204.84] loss=1.67 avg=2.35\n",
            "[153 | 206.09] loss=2.53 avg=2.35\n",
            "[154 | 207.34] loss=2.14 avg=2.35\n",
            "[155 | 208.58] loss=1.38 avg=2.33\n",
            "[156 | 209.83] loss=2.33 avg=2.33\n",
            "[157 | 211.08] loss=1.87 avg=2.33\n",
            "[158 | 212.32] loss=2.17 avg=2.33\n",
            "[159 | 213.57] loss=2.05 avg=2.32\n",
            "[160 | 214.81] loss=2.52 avg=2.33\n",
            "[161 | 216.06] loss=1.92 avg=2.32\n",
            "[162 | 217.30] loss=2.21 avg=2.32\n",
            "[163 | 218.55] loss=2.00 avg=2.31\n",
            "[164 | 219.80] loss=2.34 avg=2.32\n",
            "[165 | 221.05] loss=2.08 avg=2.31\n",
            "[166 | 222.30] loss=2.09 avg=2.31\n",
            "[167 | 223.55] loss=1.60 avg=2.30\n",
            "[168 | 224.79] loss=1.92 avg=2.30\n",
            "[169 | 226.03] loss=2.36 avg=2.30\n",
            "[170 | 227.28] loss=1.46 avg=2.29\n",
            "[171 | 228.52] loss=1.83 avg=2.28\n",
            "[172 | 229.77] loss=1.92 avg=2.28\n",
            "[173 | 231.01] loss=2.33 avg=2.28\n",
            "[174 | 232.26] loss=2.23 avg=2.28\n",
            "[175 | 233.51] loss=2.35 avg=2.28\n",
            "[176 | 234.76] loss=2.09 avg=2.28\n",
            "[177 | 236.01] loss=2.09 avg=2.27\n",
            "[178 | 237.26] loss=1.42 avg=2.26\n",
            "[179 | 238.52] loss=1.59 avg=2.26\n",
            "[180 | 239.76] loss=1.38 avg=2.24\n",
            "[181 | 241.01] loss=2.14 avg=2.24\n",
            "[182 | 242.26] loss=2.15 avg=2.24\n",
            "[183 | 243.51] loss=1.64 avg=2.24\n",
            "[184 | 244.75] loss=2.35 avg=2.24\n",
            "[185 | 246.00] loss=2.20 avg=2.24\n",
            "[186 | 247.25] loss=1.64 avg=2.23\n",
            "[187 | 248.50] loss=2.42 avg=2.23\n",
            "[188 | 249.74] loss=1.63 avg=2.22\n",
            "[189 | 250.99] loss=2.00 avg=2.22\n",
            "[190 | 252.24] loss=1.87 avg=2.22\n",
            "[191 | 253.49] loss=2.55 avg=2.22\n",
            "[192 | 254.73] loss=1.82 avg=2.22\n",
            "[193 | 255.98] loss=1.80 avg=2.21\n",
            "[194 | 257.23] loss=2.24 avg=2.21\n",
            "[195 | 258.48] loss=1.69 avg=2.21\n",
            "[196 | 259.73] loss=2.11 avg=2.20\n",
            "[197 | 260.98] loss=1.92 avg=2.20\n",
            "[198 | 262.23] loss=1.81 avg=2.20\n",
            "[199 | 263.47] loss=2.07 avg=2.20\n",
            "[200 | 264.71] loss=1.60 avg=2.19\n",
            "======== SAMPLE 1 ========\n",
            " about many different ways of referring to it, but I have found that, if the first place given are taken at all times, our inquiries are not confined to that place at which the stars at right angles are seen to rise or set: and I have found that the orientation of the pole most frequently is found to depend upon the time when the stars rise and set.\n",
            "\n",
            "Let us now come to this object at all events; we are in the period of early astronomy when the star-worshippers were absolutely sure that the place at which the sun rose was known to them. It is probable that, with this knowledge, they would be very familiar with the fact that the sunrise can be observed at any place, and that the sun at those places would rise or set, and thus be familiar with the time at which they were most anxious to know. The Egyptians were certainly familiar with the times in which stars rose or set, and their reason for this was that they preferred to know the true time.\n",
            "\n",
            "I should add that it is clear that the Egyptians, when the observations made were not limited to any particular place, had several instruments which they used for the purpose of recording the movements of the sun, and also that some of the instruments were more likely to produce a record than others.\n",
            "\n",
            "The next stage in the investigation of the nature and extent of the star-worshippers' observations, I think probably taken in the summer and the winter solstices, was to gather up a little information that may be of value to them. What they saw to rise or set, and what they saw to observe to the northward was their chief inquiry, and it was to this end that the Egyptians made the following maps:--\n",
            "\n",
            "   23° 30′ S.     23° 23′ N.   22½° 27′ S.    23° 24′ N.\n",
            "     35° 39′ W.    29° 35′ E.   36° 38′ W.    26′ N.\n",
            "      1¾° 24′ W.    3½° 26′ W.\n",
            "                                           │\n",
            "[Illustration: STAR-WORShIPERS.]\n",
            "\n",
            "Here, then, we have the question of the star to be regarded--why was it observed, and why should the sun be observed at times of high and low equinox?\n",
            "\n",
            "On this point there is evidence. On various dates, many of the planets visible to the sun may be traced to a region near the equator at a certain time of the year, and to that period the star-worshippers were certain of observing a certain number of days.\n",
            "Now, we have a system in existence among the early Egyptians, a kind of solar temple. The purpose of this temple was to observe the rising of the sun at a certain time of the year. The temple was, of course, very small, so that the constellations which were visible to the east and south could probably only be used to watch the sun, because at some period of its year they would be much more likely to appear at the sunrise than at any time of the year.\n",
            "\n",
            "But another part of the temple was erected near the summer solstice to watch the rising of the sun when it ought to have received some rain, so that when the sun rose or set, as it always does, it would rise and set with a somewhat higher amplitude. Hence, it has been shown, the early Egyptian priests, having seen the rising or setting of an early star in a period of time considerably longer than that which they had been in, would have been well advised to construct and orient the temple to such a rising or setting.\n",
            "\n",
            " \"Temple--\"\n",
            "Inscription--\n",
            "\n",
            "  ─────────────────────────────────────────────┴────────────┴────────────────────┴────────────────────────┴────────────┴──────\n",
            "  │──────────────┴────────────────────────────────────┴──────────────┴────────────────────────────┴──────────────\n",
            "  │──────────────┴────────────────────────────────────┴────────────────────┴────────────────────────────┴──────────────\n",
            "  And what part of the temple was the presence of a star-worshipping country\n",
            "near the winter solstice?\n",
            "\n",
            "The temple had a latitude of 25°, longitudes of 37°,\n",
            "variations from 25° to 43°, and places the sun at or near the autumnal equinox.\n",
            "The place of the star also in this region probably had its chief temple and some of its\n",
            "priests there, but no exact information has yet been obtained for the ancient Egyptians\n",
            "\n",
            "[201 | 273.77] loss=1.82 avg=2.18\n",
            "[202 | 275.02] loss=1.65 avg=2.18\n",
            "[203 | 276.27] loss=2.20 avg=2.18\n",
            "[204 | 277.52] loss=1.65 avg=2.17\n",
            "[205 | 278.77] loss=1.71 avg=2.17\n",
            "[206 | 280.02] loss=1.95 avg=2.16\n",
            "[207 | 281.27] loss=1.91 avg=2.16\n",
            "[208 | 282.52] loss=2.01 avg=2.16\n",
            "[209 | 283.76] loss=2.06 avg=2.16\n",
            "[210 | 285.01] loss=1.58 avg=2.15\n",
            "[211 | 286.25] loss=1.30 avg=2.14\n",
            "[212 | 287.50] loss=2.10 avg=2.14\n",
            "[213 | 288.74] loss=2.14 avg=2.14\n",
            "[214 | 289.99] loss=1.35 avg=2.13\n",
            "[215 | 291.24] loss=1.76 avg=2.13\n",
            "[216 | 292.49] loss=2.12 avg=2.13\n",
            "[217 | 293.74] loss=2.30 avg=2.13\n",
            "[218 | 294.99] loss=2.25 avg=2.13\n",
            "[219 | 296.24] loss=2.00 avg=2.13\n",
            "[220 | 297.48] loss=1.81 avg=2.13\n",
            "[221 | 298.73] loss=2.14 avg=2.13\n",
            "[222 | 299.98] loss=1.70 avg=2.12\n",
            "[223 | 301.23] loss=1.87 avg=2.12\n",
            "[224 | 302.47] loss=2.02 avg=2.12\n",
            "[225 | 303.72] loss=2.15 avg=2.12\n",
            "[226 | 304.96] loss=1.88 avg=2.12\n",
            "[227 | 306.21] loss=1.57 avg=2.11\n",
            "[228 | 307.47] loss=1.93 avg=2.11\n",
            "[229 | 308.72] loss=1.62 avg=2.10\n",
            "[230 | 309.97] loss=1.72 avg=2.10\n",
            "[231 | 311.22] loss=2.05 avg=2.10\n",
            "[232 | 312.47] loss=1.83 avg=2.09\n",
            "[233 | 313.72] loss=1.97 avg=2.09\n",
            "[234 | 314.97] loss=2.15 avg=2.09\n",
            "[235 | 316.21] loss=1.40 avg=2.09\n",
            "[236 | 317.46] loss=1.77 avg=2.08\n",
            "[237 | 318.71] loss=1.61 avg=2.08\n",
            "[238 | 319.95] loss=1.42 avg=2.07\n",
            "[239 | 321.20] loss=2.12 avg=2.07\n",
            "[240 | 322.45] loss=1.84 avg=2.07\n",
            "[241 | 323.69] loss=1.84 avg=2.07\n",
            "[242 | 324.94] loss=2.25 avg=2.07\n",
            "[243 | 326.19] loss=1.82 avg=2.07\n",
            "[244 | 327.44] loss=1.87 avg=2.06\n",
            "[245 | 328.68] loss=1.67 avg=2.06\n",
            "[246 | 329.93] loss=1.84 avg=2.06\n",
            "[247 | 331.19] loss=1.77 avg=2.05\n",
            "[248 | 332.44] loss=1.58 avg=2.05\n",
            "[249 | 333.68] loss=1.75 avg=2.05\n",
            "[250 | 334.93] loss=1.99 avg=2.04\n",
            "[251 | 336.17] loss=1.97 avg=2.04\n",
            "[252 | 337.42] loss=1.55 avg=2.04\n",
            "[253 | 338.67] loss=1.87 avg=2.04\n",
            "[254 | 339.91] loss=2.09 avg=2.04\n",
            "[255 | 341.16] loss=1.70 avg=2.03\n",
            "[256 | 342.40] loss=1.22 avg=2.02\n",
            "[257 | 343.65] loss=2.30 avg=2.03\n",
            "[258 | 344.90] loss=1.52 avg=2.02\n",
            "[259 | 346.15] loss=2.11 avg=2.02\n",
            "[260 | 347.40] loss=1.65 avg=2.02\n",
            "[261 | 348.64] loss=1.62 avg=2.01\n",
            "[262 | 349.89] loss=1.65 avg=2.01\n",
            "[263 | 351.14] loss=1.50 avg=2.01\n",
            "[264 | 352.39] loss=1.21 avg=2.00\n",
            "[265 | 353.63] loss=1.79 avg=1.99\n",
            "[266 | 354.88] loss=1.86 avg=1.99\n",
            "[267 | 356.12] loss=2.12 avg=1.99\n",
            "[268 | 357.37] loss=2.02 avg=1.99\n",
            "[269 | 358.61] loss=1.72 avg=1.99\n",
            "[270 | 359.87] loss=1.80 avg=1.99\n",
            "[271 | 361.12] loss=1.55 avg=1.98\n",
            "[272 | 362.38] loss=1.80 avg=1.98\n",
            "[273 | 363.62] loss=1.99 avg=1.98\n",
            "[274 | 364.87] loss=1.94 avg=1.98\n",
            "[275 | 366.12] loss=1.53 avg=1.98\n",
            "[276 | 367.37] loss=1.48 avg=1.97\n",
            "[277 | 368.62] loss=1.34 avg=1.97\n",
            "[278 | 369.86] loss=1.66 avg=1.96\n",
            "[279 | 371.10] loss=1.62 avg=1.96\n",
            "[280 | 372.35] loss=1.16 avg=1.95\n",
            "[281 | 373.60] loss=1.40 avg=1.94\n",
            "[282 | 374.84] loss=1.68 avg=1.94\n",
            "[283 | 376.09] loss=1.25 avg=1.93\n",
            "[284 | 377.33] loss=1.38 avg=1.93\n",
            "[285 | 378.58] loss=1.42 avg=1.92\n",
            "[286 | 379.83] loss=1.69 avg=1.92\n",
            "[287 | 381.07] loss=1.55 avg=1.92\n",
            "[288 | 382.33] loss=1.41 avg=1.91\n",
            "[289 | 383.58] loss=1.52 avg=1.91\n",
            "[290 | 384.82] loss=1.10 avg=1.90\n",
            "[291 | 386.07] loss=1.60 avg=1.90\n",
            "[292 | 387.31] loss=1.56 avg=1.89\n",
            "[293 | 388.56] loss=1.58 avg=1.89\n",
            "[294 | 389.81] loss=1.62 avg=1.89\n",
            "[295 | 391.05] loss=1.40 avg=1.88\n",
            "[296 | 392.31] loss=1.28 avg=1.87\n",
            "[297 | 393.56] loss=1.56 avg=1.87\n",
            "[298 | 394.81] loss=0.96 avg=1.86\n",
            "[299 | 396.06] loss=1.04 avg=1.85\n",
            "[300 | 397.31] loss=1.74 avg=1.85\n",
            "======== SAMPLE 1 ========\n",
            " the vernal equinox. This sun was the Pleiades constellation.\n",
            "\n",
            "With regard to the solstice, for reasons connected with my previous inquiry,[54]\n",
            "it has been assumed that the equinoxes, as well as the solstices, were\n",
            "not in fact precessional. The date of the earliest known pole-star\n",
            "constellations to the west of 3000 years B.C. is 3657 B.C.\n",
            "\n",
            "The statement that the earliest constellation or solstice to the\n",
            "west of 3000 years B.C. was a constellation of the Pleiades did not\n",
            "necessarily lead to the conclusion that Sirius was a precessional star.[55]\n",
            "\n",
            "It will be seen that this is a generalisation, as the date of the brightest\n",
            "star to the west of the star list is not in question, as the list I have just\n",
            "completed consists only of the brightest star to be seen near us.\n",
            "\n",
            "It will be convenient, however, to refer to the chapters on the Egyptian\n",
            "Temples relating to the equinoctial temples and their associated\n",
            "stars.\n",
            "\n",
            "[Illustration: HELIAC AT EL-MOUNDSAD, THE LAMB OF ABYDOS. (_D.C._)]\n",
            "\n",
            "The temples and their equinoctial stars have been found to be located\n",
            "just south of sea-level; therefore I have shown that some of them\n",
            "might have been used in the equinoxes. Here, too, we have to consider\n",
            "the arguments for and against the suggestion in favour of a large number of\n",
            "temples at right angles to the Nile.\n",
            "\n",
            "The first temple north of the Nile, that is Temples M and S (and possibly F)\n",
            "in all probability, was dedicated to the goddess Hathor by Herakles at\n",
            "Thebes. The second temple, named for Lepsius (Isis), stood alone--the\n",
            "most interesting one of them having on its centre a prism at right\n",
            "angles to the north-east of the south-east; the next to the east of\n",
            "the middle altar (?) was another dedicated by Herakles. The third,\n",
            "the most interesting one at that, was dedicated by Thothmes I. to\n",
            "Lepsius on July 10.--July 11.\n",
            "\n",
            "The chief temple at Thebes, also, had been directed to the\n",
            "Nile, and were the remains of the magnificent temple at Thebes\n",
            "(Isis), at the centre of the river, as the Egyptian writer tells\n",
            "himself, \"I think it probably flows [Nile] a mere 10 kilometres.\"\n",
            "\n",
            "The two great pyramids (Mestha and Mestha-t) at Thebes, so far as I can\n",
            "find, are of no lower importance than these two temples, and they\n",
            "are oriented to the Nile. This being so, the argument goes, we can\n",
            "describe them into two main groups, the brightest temple and the\n",
            "other, the pyramid temples which, as I have stated, were founded to\n",
            "watch the rising or setting of stars.\n",
            "\n",
            "The temple P (temple K) was, as it were, the star temple of\n",
            "Tell el-Amarna. There is evidence that its chief antiquity lies in\n",
            "the dates on which it was built. A copy of the inscriptions at Tell el-Amanda is\n",
            "found, which shows that, according to Mariette, the temple was founded about\n",
            "4000 B.C.--4000 B.D. (Julian)--or about 6000 B.C., or 6000\n",
            "B.C. on the date on the original planck of the temple of Canopus and the\n",
            "the great pyramid (_The_).\n",
            "\n",
            "  Karnak = (Taurt) temple.     Temple            Temple        Temples in\n",
            "the south, next to one another, and on both sides of the river.\n",
            "\n",
            "The great pyramid temple _B_ at Dêr el-Bahari at the     year   = 5000 B.C.   Karnak =  Thothmes I.                          \n",
            "                                                             Lepsius I.                                                       \n",
            "\n",
            "[301 | 406.48] loss=1.33 avg=1.85\n",
            "[302 | 407.72] loss=1.70 avg=1.84\n",
            "[303 | 408.97] loss=1.44 avg=1.84\n",
            "[304 | 410.22] loss=1.49 avg=1.84\n",
            "[305 | 411.46] loss=1.00 avg=1.83\n",
            "[306 | 412.71] loss=1.59 avg=1.83\n",
            "[307 | 413.96] loss=1.08 avg=1.82\n",
            "[308 | 415.20] loss=1.54 avg=1.81\n",
            "[309 | 416.45] loss=1.73 avg=1.81\n",
            "[310 | 417.69] loss=1.04 avg=1.81\n",
            "[311 | 418.94] loss=1.28 avg=1.80\n",
            "[312 | 420.18] loss=1.52 avg=1.80\n",
            "[313 | 421.42] loss=0.98 avg=1.79\n",
            "[314 | 422.67] loss=1.60 avg=1.79\n",
            "[315 | 423.92] loss=1.79 avg=1.79\n",
            "[316 | 425.16] loss=1.61 avg=1.78\n",
            "[317 | 426.41] loss=1.45 avg=1.78\n",
            "[318 | 427.67] loss=1.34 avg=1.78\n",
            "[319 | 428.92] loss=1.45 avg=1.77\n",
            "[320 | 430.17] loss=1.55 avg=1.77\n",
            "[321 | 431.41] loss=1.52 avg=1.77\n",
            "[322 | 432.66] loss=1.63 avg=1.77\n",
            "[323 | 433.91] loss=1.65 avg=1.77\n",
            "[324 | 435.15] loss=1.35 avg=1.76\n",
            "[325 | 436.40] loss=1.45 avg=1.76\n",
            "[326 | 437.65] loss=1.56 avg=1.76\n",
            "[327 | 438.89] loss=1.35 avg=1.75\n",
            "[328 | 440.14] loss=1.32 avg=1.75\n",
            "[329 | 441.38] loss=1.26 avg=1.74\n",
            "[330 | 442.63] loss=1.21 avg=1.74\n",
            "[331 | 443.87] loss=1.69 avg=1.74\n",
            "[332 | 445.12] loss=1.18 avg=1.73\n",
            "[333 | 446.37] loss=1.56 avg=1.73\n",
            "[334 | 447.61] loss=1.28 avg=1.72\n",
            "[335 | 448.85] loss=1.48 avg=1.72\n",
            "[336 | 450.10] loss=2.00 avg=1.72\n",
            "[337 | 451.34] loss=1.17 avg=1.72\n",
            "[338 | 452.59] loss=1.26 avg=1.71\n",
            "[339 | 453.83] loss=1.46 avg=1.71\n",
            "[340 | 455.08] loss=1.73 avg=1.71\n",
            "[341 | 456.33] loss=1.31 avg=1.71\n",
            "[342 | 457.57] loss=1.10 avg=1.70\n",
            "[343 | 458.82] loss=1.47 avg=1.70\n",
            "[344 | 460.06] loss=1.16 avg=1.69\n",
            "[345 | 461.31] loss=1.11 avg=1.69\n",
            "[346 | 462.55] loss=1.26 avg=1.68\n",
            "[347 | 463.80] loss=1.48 avg=1.68\n",
            "[348 | 465.04] loss=1.50 avg=1.68\n",
            "[349 | 466.28] loss=1.38 avg=1.68\n",
            "[350 | 467.52] loss=1.40 avg=1.67\n",
            "[351 | 468.77] loss=1.14 avg=1.67\n",
            "[352 | 470.02] loss=1.14 avg=1.66\n",
            "[353 | 471.26] loss=0.96 avg=1.65\n",
            "[354 | 472.51] loss=1.06 avg=1.65\n",
            "[355 | 473.76] loss=1.15 avg=1.64\n",
            "[356 | 475.00] loss=1.41 avg=1.64\n",
            "[357 | 476.24] loss=1.34 avg=1.64\n",
            "[358 | 477.49] loss=1.47 avg=1.64\n",
            "[359 | 478.73] loss=1.25 avg=1.63\n",
            "[360 | 479.97] loss=1.37 avg=1.63\n",
            "[361 | 481.22] loss=1.06 avg=1.62\n",
            "[362 | 482.46] loss=1.21 avg=1.62\n",
            "[363 | 483.71] loss=1.38 avg=1.62\n",
            "[364 | 484.96] loss=1.26 avg=1.61\n",
            "[365 | 486.21] loss=0.98 avg=1.61\n",
            "[366 | 487.45] loss=1.07 avg=1.60\n",
            "[367 | 488.70] loss=1.47 avg=1.60\n",
            "[368 | 489.94] loss=0.88 avg=1.59\n",
            "[369 | 491.19] loss=1.16 avg=1.59\n",
            "[370 | 492.43] loss=1.04 avg=1.58\n",
            "[371 | 493.67] loss=0.94 avg=1.58\n",
            "[372 | 494.91] loss=1.33 avg=1.57\n",
            "[373 | 496.16] loss=1.08 avg=1.57\n",
            "[374 | 497.40] loss=1.24 avg=1.57\n",
            "[375 | 498.64] loss=1.14 avg=1.56\n",
            "[376 | 499.90] loss=1.14 avg=1.56\n",
            "[377 | 501.14] loss=1.39 avg=1.55\n",
            "[378 | 502.39] loss=1.07 avg=1.55\n",
            "[379 | 503.63] loss=1.71 avg=1.55\n",
            "[380 | 504.87] loss=1.44 avg=1.55\n",
            "[381 | 506.12] loss=0.94 avg=1.54\n",
            "[382 | 507.36] loss=1.11 avg=1.54\n",
            "[383 | 508.61] loss=0.71 avg=1.53\n",
            "[384 | 509.85] loss=1.20 avg=1.53\n",
            "[385 | 511.09] loss=1.15 avg=1.52\n",
            "[386 | 512.34] loss=1.14 avg=1.52\n",
            "[387 | 513.59] loss=0.94 avg=1.51\n",
            "[388 | 514.83] loss=1.25 avg=1.51\n",
            "[389 | 516.08] loss=0.93 avg=1.51\n",
            "[390 | 517.32] loss=1.54 avg=1.51\n",
            "[391 | 518.57] loss=1.19 avg=1.50\n",
            "[392 | 519.81] loss=1.25 avg=1.50\n",
            "[393 | 521.05] loss=1.58 avg=1.50\n",
            "[394 | 522.30] loss=1.51 avg=1.50\n",
            "[395 | 523.54] loss=0.83 avg=1.49\n",
            "[396 | 524.78] loss=0.86 avg=1.49\n",
            "[397 | 526.03] loss=0.89 avg=1.48\n",
            "[398 | 527.28] loss=1.06 avg=1.48\n",
            "[399 | 528.52] loss=0.92 avg=1.47\n",
            "[400 | 529.76] loss=1.01 avg=1.47\n",
            "======== SAMPLE 1 ========\n",
            "__                                                                          *                                          *                         ──                                   │\n",
            "  Temple of Isis (v. 3), (v. 5).\n",
            "  Denderah. ├         ├          ├            ├          ├         │\n",
            "  Place of Isis (v. 3), (v. 5). ──\n",
            "  Ceremonial.                 │             ├            │\n",
            "  Ceremonial.              │            │\n",
            "  Temple of Isis.                 │             │             ───\n",
            "  Ceremonial.                ───\n",
            "\n",
            "Jensen[38] Thirteen, 1879.\n",
            "\n",
            "[Illustration: THE WINGED SOLAR DISK AND MASSAGE OF HATHOR.]\n",
            "\n",
            "\n",
            "_The Stars Are Not Myths._--Some might say that _the stars_ do not\n",
            "exist. To them we may add that _there is a god and a goddess with\n",
            "mythology similar to _The_ and _the gods who rule over the sea that stretches\n",
            "from the mouth of the S.E. to the mouth of the E. as far east as\n",
            "the Red Sea_. _The_ solar worship was abolished by _Dêr\n",
            "Bahari in the fourth century B.C. _a _new_ miracle of the triple\n",
            "divinity in the form of a rose watching over the eastern horizon._\n",
            "\n",
            "It is necessary to enter into the period of old Egyptian astronomy to\n",
            "see how closely the Egyptians defined the term _cosmica_.\n",
            "\n",
            "The term was associated with mythological thinking, and we have seen that myth\n",
            "conceptions had meaning both in mythological thought and in the physical\n",
            "construction of the universe. The term had certain astronomical or divinity\n",
            "conceptions, but they were not associated with the daily struggle to\n",
            "separate the sun from the disk of the disk of the sun when in the course\n",
            "of history the Egyptians have referred almost to the Egyptian struggle to separate\n",
            "the sun from disk when in the course of time other celestial\n",
            "things were attempted. _In Egypt_ we have facts, but no mythology, for the\n",
            "historical record is very simple. We have facts about sunrise and sunset,\n",
            "and facts about the summer solstice and the winter solstice, and we have\n",
            "facts about the rising of γ Draconis. So it looks as if, in Egypt at least, mythological\n",
            "thinking, or at least mythological construction, had its origin not in the sky,\n",
            "but in a globe of stars round the sun and to the opposite of it when\n",
            "in question.\n",
            "\n",
            "It has been stated that, as we have seen, mythological thinking in\n",
            "the Egyptians stemmed not from an actual astronomical idea, but from a\n",
            "historical one. If this be so, why, we have only to consider the Egyptian\n",
            "cosmical history to understand that it was not the result of actual\n",
            "thinking on the part of the people of Egypt as it is nowadays, but a\n",
            "result of the accidental and unbecoming treatment in some special way\n",
            "of the people of Upper Egypt of an Egyptian sun-worshipping race, who inhabited\n",
            "a small and insignificant portion of Upper Egypt.\n",
            "\n",
            "There is another point which must not be forgotten. This race, so far as we\n",
            "know, came from a high mountains region up to the present time. It\n",
            "was once, and very fortunately, the chief source of agricultural and agricultural\n",
            "imperialism;\n",
            "\n",
            "[401 | 538.84] loss=0.82 avg=1.46\n",
            "[402 | 540.08] loss=0.95 avg=1.46\n",
            "[403 | 541.33] loss=1.33 avg=1.45\n",
            "[404 | 542.57] loss=1.40 avg=1.45\n",
            "[405 | 543.82] loss=1.16 avg=1.45\n",
            "[406 | 545.06] loss=1.21 avg=1.45\n",
            "[407 | 546.30] loss=0.57 avg=1.44\n",
            "[408 | 547.55] loss=0.84 avg=1.43\n",
            "[409 | 548.80] loss=0.90 avg=1.43\n",
            "[410 | 550.04] loss=1.17 avg=1.42\n",
            "[411 | 551.28] loss=1.45 avg=1.42\n",
            "[412 | 552.53] loss=1.13 avg=1.42\n",
            "[413 | 553.77] loss=0.97 avg=1.42\n",
            "[414 | 555.01] loss=1.01 avg=1.41\n",
            "[415 | 556.26] loss=1.03 avg=1.41\n",
            "[416 | 557.51] loss=0.86 avg=1.40\n",
            "[417 | 558.75] loss=1.10 avg=1.40\n",
            "[418 | 560.00] loss=1.10 avg=1.40\n",
            "[419 | 561.24] loss=1.04 avg=1.39\n",
            "[420 | 562.48] loss=1.31 avg=1.39\n",
            "[421 | 563.73] loss=0.94 avg=1.39\n",
            "[422 | 564.98] loss=1.28 avg=1.39\n",
            "[423 | 566.23] loss=0.92 avg=1.38\n",
            "[424 | 567.47] loss=1.07 avg=1.38\n",
            "[425 | 568.73] loss=1.02 avg=1.38\n",
            "[426 | 569.97] loss=0.96 avg=1.37\n",
            "[427 | 571.21] loss=0.94 avg=1.37\n",
            "[428 | 572.46] loss=0.98 avg=1.36\n",
            "[429 | 573.70] loss=0.57 avg=1.36\n",
            "[430 | 574.94] loss=0.77 avg=1.35\n",
            "[431 | 576.18] loss=1.11 avg=1.35\n",
            "[432 | 577.43] loss=1.04 avg=1.34\n",
            "[433 | 578.68] loss=0.89 avg=1.34\n",
            "[434 | 579.93] loss=1.24 avg=1.34\n",
            "[435 | 581.18] loss=0.62 avg=1.33\n",
            "[436 | 582.42] loss=1.17 avg=1.33\n",
            "[437 | 583.67] loss=0.96 avg=1.33\n",
            "[438 | 584.91] loss=0.77 avg=1.32\n",
            "[439 | 586.16] loss=0.66 avg=1.31\n",
            "[440 | 587.40] loss=0.79 avg=1.31\n",
            "[441 | 588.65] loss=1.18 avg=1.31\n",
            "[442 | 589.90] loss=1.23 avg=1.31\n",
            "[443 | 591.15] loss=0.78 avg=1.30\n",
            "[444 | 592.40] loss=0.88 avg=1.30\n",
            "[445 | 593.65] loss=0.82 avg=1.29\n",
            "[446 | 594.89] loss=0.54 avg=1.28\n",
            "[447 | 596.14] loss=0.81 avg=1.28\n",
            "[448 | 597.39] loss=0.97 avg=1.28\n",
            "[449 | 598.64] loss=1.31 avg=1.28\n",
            "[450 | 599.88] loss=0.80 avg=1.27\n",
            "[451 | 601.13] loss=1.17 avg=1.27\n",
            "[452 | 602.37] loss=0.75 avg=1.27\n",
            "[453 | 603.62] loss=1.03 avg=1.26\n",
            "[454 | 604.86] loss=0.81 avg=1.26\n",
            "[455 | 606.10] loss=1.04 avg=1.26\n",
            "[456 | 607.35] loss=0.96 avg=1.25\n",
            "[457 | 608.60] loss=0.81 avg=1.25\n",
            "[458 | 609.85] loss=0.78 avg=1.24\n",
            "[459 | 611.10] loss=0.95 avg=1.24\n",
            "[460 | 612.35] loss=0.83 avg=1.24\n",
            "[461 | 613.60] loss=0.63 avg=1.23\n",
            "[462 | 614.84] loss=0.72 avg=1.23\n",
            "[463 | 616.09] loss=0.67 avg=1.22\n",
            "[464 | 617.33] loss=0.63 avg=1.21\n",
            "[465 | 618.58] loss=0.89 avg=1.21\n",
            "[466 | 619.83] loss=0.75 avg=1.21\n",
            "[467 | 621.08] loss=0.98 avg=1.20\n",
            "[468 | 622.32] loss=1.31 avg=1.20\n",
            "[469 | 623.57] loss=0.80 avg=1.20\n",
            "[470 | 624.81] loss=0.79 avg=1.20\n",
            "[471 | 626.05] loss=0.70 avg=1.19\n",
            "[472 | 627.30] loss=0.69 avg=1.19\n",
            "[473 | 628.55] loss=0.65 avg=1.18\n",
            "[474 | 629.79] loss=0.98 avg=1.18\n",
            "[475 | 631.04] loss=0.80 avg=1.18\n",
            "[476 | 632.28] loss=0.78 avg=1.17\n",
            "[477 | 633.53] loss=0.78 avg=1.17\n",
            "[478 | 634.77] loss=0.83 avg=1.16\n",
            "[479 | 636.02] loss=0.74 avg=1.16\n",
            "[480 | 637.26] loss=0.91 avg=1.16\n",
            "[481 | 638.50] loss=1.10 avg=1.16\n",
            "[482 | 639.75] loss=0.96 avg=1.15\n",
            "[483 | 641.00] loss=0.98 avg=1.15\n",
            "[484 | 642.24] loss=0.86 avg=1.15\n",
            "[485 | 643.49] loss=0.47 avg=1.14\n",
            "[486 | 644.73] loss=0.73 avg=1.14\n",
            "[487 | 645.98] loss=0.68 avg=1.13\n",
            "[488 | 647.22] loss=0.91 avg=1.13\n",
            "[489 | 648.46] loss=0.84 avg=1.13\n",
            "[490 | 649.71] loss=0.93 avg=1.13\n",
            "[491 | 650.96] loss=0.94 avg=1.13\n",
            "[492 | 652.20] loss=0.73 avg=1.12\n",
            "[493 | 653.45] loss=0.86 avg=1.12\n",
            "[494 | 654.69] loss=0.83 avg=1.12\n",
            "[495 | 655.94] loss=0.61 avg=1.11\n",
            "[496 | 657.19] loss=0.80 avg=1.11\n",
            "[497 | 658.43] loss=1.16 avg=1.11\n",
            "[498 | 659.68] loss=0.68 avg=1.10\n",
            "[499 | 660.93] loss=0.53 avg=1.10\n",
            "[500 | 662.17] loss=0.67 avg=1.09\n",
            "Saving checkpoint/run1/model-500\n",
            "Morris: A modern interpretation\n",
            "of the Bible.\n",
            "\n",
            "I have indicated that the mode of succession in the Book of the Dead\n",
            "is now clearly indicated, and the evidence is overwhelming that it\n",
            "is true. I further underline that the evidence is increasing.\n",
            "\n",
            "Let us take for instance the statement of St. John, according to Censorinus,\n",
            "that the priest laying the foundations of the temple of Bel had his\n",
            "own temple when the priest of Isis had laid the foundations of the\n",
            "temple at Memphis.[186]\n",
            "\n",
            "We have found the record to be full of variants.\n",
            "\n",
            "Let us take, for instance, the matter of typology. In Egypt, where\n",
            "archæological evidence is lacking, we have found variants in\n",
            "the building ceremonials which were apparently put down by the\n",
            "king of Babylonian or Assyria.\n",
            "\n",
            "It is well to take this opportunity of emphasising the importance of\n",
            "this subject, and the importance of the recent discoveries made in\n",
            "this field, to which reference is generally made. We have found the\n",
            "word qiblah (cow) in the Book of the Dead symbolised by the hippopotamus;\n",
            "in the hieroglyphic signs in the inscriptions at Denderah we find the\n",
            "word for cow (water) written on the back of the head. There is another variant,\n",
            "the word \"loa,\" which literally means \"carry,\" in connection with the\n",
            "lawn-time ceremonials.\n",
            "\n",
            "Now, if we are driven to the conclusion that the above general\n",
            "approach represents only local observations, we have not only a great\n",
            "amount of evidence to work with, but we can begin to glimpse a\n",
            "new direction in the relations of thought and act of government which\n",
            "will throw fresh light on several points connected with early religious\n",
            "personages.\n",
            "\n",
            "I shall have to return to this subject, but for the present I must\n",
            "remark as to one of the most important points in Egyptian history, that\n",
            "as it is to a large extent determined by our present knowledge of the\n",
            "temple building in Egypt, and by the recent discoveries made in the\n",
            "following years, the foundation stone required for a temple of this\n",
            "type on a site having an amplitude of more than 72½° N. of W. will,\n",
            "to begin with, come due in the year 2000. With that foundation\n",
            "way is at hand, and in a condition of due archæological time.\n",
            "\n",
            "Now it will, perhaps, be of use to our present students to\n",
            "take a few days to consider the conditions of the foundation of a temple\n",
            "typified by the Hebrews as Osiris in order to come to the conclusion\n",
            "that the temple was founded to set apart temples for the use of the\n",
            "religious.\n",
            "\n",
            "This idea, I think, is exactly the opposite of the view held by some\n",
            "prose-titutors, who hold that the various temples in the heavens are\n",
            "built to look for an Isis (Set), and point out, as they always do,\n",
            "that this spot is the only one which lies within a few degrees.\n",
            "\n",
            "Now, it is, of course, equally simple to determine the moment of\n",
            "incident in a temple, and to photograph it in the same\n",
            "environment, in order to obtain a very definite picture of the\n",
            "subject matter at issue. But it is more difficult, because it requires\n",
            "so much information to be able to make a definite statement about the\n",
            "subject matter at issue.\n",
            "\n",
            "To obtain this information, a very considerable amount of oil is\n",
            "available, which is then poured into several black and white telescopes\n",
            "across a large area covered with desert hills. In most cases\n",
            "the black and white images are of sufficient sharpness to enable a\n",
            "high-angle photograph to be made.\n",
            "\n",
            "The amount of oil that can be poured into such a telescope is about\n",
            "only 20 or 25 pence a liter. The larger telescopes\n",
            "can take up to four hours to take up this oil, and so much more\n",
            "because the oil is poured into a very sharp and clear glass.\n",
            "\n",
            "So that for very large temples it is essential that the oil be\n",
            "thrown very carefully into the well or tanks used for it, and\n",
            "that it be at all times visible from any part of the kingdom\n",
            "or country within a distance of 200 miles.\n",
            "\n",
            "The temples which are examined are then compared againsixty-eight years\n",
            "lateron by the French Astronomical Society, in order to determine\n",
            "whether or not a particular star was visible in the well or any\n",
            "place at the date shown.\n",
            "\n",
            "In the present study I have used a superintending Chinese telescope\n",
            "as the method by which I was able to obtain very sharp and\n",
            "possible coloured results from a superintending telescope.\n",
            "\n",
            "The results have been obtained in part from high altitude photographs taken\n",
            "in the c. 1700s, when the Chinese still ruled very largely in\n"
          ],
          "name": "stdout"
        }
      ]
    },
    {
      "cell_type": "code",
      "metadata": {
        "id": "xcycBpw3BCfK"
      },
      "source": [
        ""
      ],
      "execution_count": null,
      "outputs": []
    }
  ]
}